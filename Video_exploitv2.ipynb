{
 "cells": [
  {
   "cell_type": "markdown",
   "metadata": {},
   "source": [
    "### I - Video extraction"
   ]
  },
  {
   "cell_type": "code",
   "execution_count": 1,
   "metadata": {},
   "outputs": [],
   "source": [
    "import pytube as pt\n",
    "import time\n",
    "import os\n",
    "from openai import AzureOpenAI"
   ]
  },
  {
   "cell_type": "code",
   "execution_count": 3,
   "metadata": {},
   "outputs": [],
   "source": [
    "#transcription module \n",
    "os.environ[\"OPENAI_API_KEY\"] = \"33504ce0177a4cd2a3f96ba2ed90f845\"\n",
    "os.environ[\"AOAIEndpoint\"] = \"https://gptshared-vision.openai.azure.com/\"\n",
    "os.environ[\"AOAIDeploymentId\"] = \"whisper-2-large\"\n",
    "\n",
    "client = AzureOpenAI(\n",
    "    api_key = \"33504ce0177a4cd2a3f96ba2ed90f845\",  \n",
    "    api_version = \"2023-10-01-preview\",\n",
    "    azure_endpoint = \"https://gptshared-vision.openai.azure.com/\"\n",
    "    )"
   ]
  },
  {
   "cell_type": "code",
   "execution_count": 4,
   "metadata": {},
   "outputs": [],
   "source": [
    "yt = pt.YouTube(\"https://www.youtube.com/watch?v=ct9pAfq-Kmw\")\n",
    "stream = yt.streams.filter(only_audio=True)[0]"
   ]
  },
  {
   "cell_type": "code",
   "execution_count": 5,
   "metadata": {},
   "outputs": [
    {
     "data": {
      "text/plain": [
       "'/Users/oussa/Desktop/LLM/audio_english.mp3'"
      ]
     },
     "execution_count": 5,
     "metadata": {},
     "output_type": "execute_result"
    }
   ],
   "source": [
    "stream.download(filename=\"/Users/oussa/Desktop/LLM/audio_english.mp3\")"
   ]
  },
  {
   "cell_type": "code",
   "execution_count": 6,
   "metadata": {},
   "outputs": [
    {
     "name": "stdout",
     "output_type": "stream",
     "text": [
      "The first answer is all our segments are actually going very strong, which is very important for Allianz. We are very diversified across all segments and people have not, to answer your question, expected to do our very strong, probably leading-length franchise in the world doing so well, but also asset management in the fourth quarter has caught up. Given the pressure still on bonds marketing, it was a remarkable result. And just to talk about flows, it continues into this year. The first few weeks we had more flows into the fund management business than we had in all of last year, so the business is doing extremely well. I'll ask you about the outlook then, because this year 14.7 billion in operating profit, for next year you're guiding in the range of 14.8 billion euros plus or minus 1 billion euros. That looks a little bit weak. What are you seeing on the horizon that gives you a little bit of lack of visibility and suggestion? Earnings may actually even be lower. The issue, what we always do, we are very conservative. We are operating in a world that is on the brink of war in many regions of the world. And it has been a good tradition at Allianz, when you look at the last number of years that I've been in charge, that we take last year's results as the core of what we expect to continue, plus one. But when you look at the numbers the last few years, we have done 6% more. So we'd like to be conservative to not just continuously have to update the market on how are we doing relative to target. That's the real reason. We are very confident about this year as well. Why is that? One, I mentioned the flows back into the life insurance business is extremely stable. You see that the new accounting results, our CSM and cash flow distribution extremely strong. And we've had massive increases in effective rates on our book that are now coming through. Even in the most challenged market, double-digit effective price increases. So this year is going to look at least as good as last year. Oliver, really nice to see you, by the way. Thanks for joining both of us. How dependent are these extraordinary profits that you and all the other CEOs of AXA, of Zurich in the last 48 hours, etc.? How long can these really extended profits last? It feels like we're at the top of the cycle, a sweet spot in terms of rates, in terms of premiums, in terms of ROE. I just wondered, do you see a time if you're saying it's going to be at least as good this coming year when actually that's going to abate? It's a very good question. Thank you very much. We are very different from our competitors because the companies that you have just mentioned are basically purely left in property casualty insurance and have a significant exposure to commercial lines. We have, where we have seen once in a decade, high profitability, by the way, also at Allianz now with record earnings and record profitability. But remember, we have an extremely strong retail business that is stronger than almost anybody else. And on top, we have one of the leading life franchises in the world where for our new business, for example, we are not consuming any more capital. So we're adding cash flow every year. And the asset management is back, particularly on the bond side, which has been under pressure because of rising in high rates for the last few years. So we have a totally different structure and a lot more resilience than many, many other companies. Interesting that I look in P&C and I'm seeing a little bit of tightening on the combined ratio, only a little bit. And obviously your Netcat losses and claims went up a tad again as well. Oliver, is that a trend or is it an aberration? So again, excellent question. We had another record year of Netcat hits. And by the way, the world is changing. We're not just having very large events, but what you're seeing now is sort of what we call micro cyclones. We had a number of them in Europe last year. And that's why we are increasing the Netcat load in our premium calculations to three percent, which is basically doubling relative to 10 years ago. And Netcat activity is continuing increasing. The key question is, can we reprice for it? And the answer is absolutely yes. And we are redoing also our reinsurance programs. Remember, Allianz is one of the few insurance companies in the world that can place an aggregate cover to the reinsurance market. So while we have to retain more Netcat activity, we also have very good capital basis. The key thing is, however, to stay on our toes, to manage inflation. And you're going to see significant, significantly better pricing and results in retail this year. Can I forecast all Netcat? No, I can't.\n",
      "\n"
     ]
    }
   ],
   "source": [
    "\n",
    "response = client.audio.transcriptions.create(\n",
    "    model = \"whisper-2-large\",\n",
    "    file = open('/Users/oussa/Desktop/LLM/audio_english.mp3', \"rb\"),\n",
    "    response_format = \"text\" \n",
    ")\n",
    "\n",
    "print(response)\n"
   ]
  },
  {
   "cell_type": "code",
   "execution_count": 7,
   "metadata": {},
   "outputs": [
    {
     "name": "stdout",
     "output_type": "stream",
     "text": [
      "The first answer is all our segments are actually going very strong, which is very important for Allianz.\n",
      " We are very diversified across all segments and people have not, to answer your question, expected to do our very strong, probably leading-length franchise in the world doing so well, but also asset management in the fourth quarter has caught up.\n",
      " Given the pressure still on bonds marketing, it was a remarkable result.\n",
      " And just to talk about flows, it continues into this year.\n",
      " The first few weeks we had more flows into the fund management business than we had in all of last year, so the business is doing extremely well.\n",
      " I'll ask you about the outlook then, because this year 14.\n",
      "7 billion in operating profit, for next year you're guiding in the range of 14.\n",
      "8 billion euros plus or minus 1 billion euros.\n",
      " That looks a little bit weak.\n",
      " What are you seeing on the horizon that gives you a little bit of lack of visibility and suggestion? Earnings may actually even be lower.\n",
      " The issue, what we always do, we are very conservative.\n",
      " We are operating in a world that is on the brink of war in many regions of the world.\n",
      " And it has been a good tradition at Allianz, when you look at the last number of years that I've been in charge, that we take last year's results as the core of what we expect to continue, plus one.\n",
      " But when you look at the numbers the last few years, we have done 6% more.\n",
      " So we'd like to be conservative to not just continuously have to update the market on how are we doing relative to target.\n",
      " That's the real reason.\n",
      " We are very confident about this year as well.\n",
      " Why is that? One, I mentioned the flows back into the life insurance business is extremely stable.\n",
      " You see that the new accounting results, our CSM and cash flow distribution extremely strong.\n",
      " And we've had massive increases in effective rates on our book that are now coming through.\n",
      " Even in the most challenged market, double-digit effective price increases.\n",
      " So this year is going to look at least as good as last year.\n",
      " Oliver, really nice to see you, by the way.\n",
      " Thanks for joining both of us.\n",
      " How dependent are these extraordinary profits that you and all the other CEOs of AXA, of Zurich in the last 48 hours, etc.\n",
      "? How long can these really extended profits last? It feels like we're at the top of the cycle, a sweet spot in terms of rates, in terms of premiums, in terms of ROE.\n",
      " I just wondered, do you see a time if you're saying it's going to be at least as good this coming year when actually that's going to abate? It's a very good question.\n",
      " Thank you very much.\n",
      " We are very different from our competitors because the companies that you have just mentioned are basically purely left in property casualty insurance and have a significant exposure to commercial lines.\n",
      " We have, where we have seen once in a decade, high profitability, by the way, also at Allianz now with record earnings and record profitability.\n",
      " But remember, we have an extremely strong retail business that is stronger than almost anybody else.\n",
      " And on top, we have one of the leading life franchises in the world where for our new business, for example, we are not consuming any more capital.\n",
      " So we're adding cash flow every year.\n",
      " And the asset management is back, particularly on the bond side, which has been under pressure because of rising in high rates for the last few years.\n",
      " So we have a totally different structure and a lot more resilience than many, many other companies.\n",
      " Interesting that I look in P&C and I'm seeing a little bit of tightening on the combined ratio, only a little bit.\n",
      " And obviously your Netcat losses and claims went up a tad again as well.\n",
      " Oliver, is that a trend or is it an aberration? So again, excellent question.\n",
      " We had another record year of Netcat hits.\n",
      " And by the way, the world is changing.\n",
      " We're not just having very large events, but what you're seeing now is sort of what we call micro cyclones.\n",
      " We had a number of them in Europe last year.\n",
      " And that's why we are increasing the Netcat load in our premium calculations to three percent, which is basically doubling relative to 10 years ago.\n",
      " And Netcat activity is continuing increasing.\n",
      " The key question is, can we reprice for it? And the answer is absolutely yes.\n",
      " And we are redoing also our reinsurance programs.\n",
      " Remember, Allianz is one of the few insurance companies in the world that can place an aggregate cover to the reinsurance market.\n",
      " So while we have to retain more Netcat activity, we also have very good capital basis.\n",
      " The key thing is, however, to stay on our toes, to manage inflation.\n",
      " And you're going to see significant, significantly better pricing and results in retail this year.\n",
      " Can I forecast all Netcat? No, I can't.\n",
      "\n",
      "\n"
     ]
    }
   ],
   "source": [
    "response_modifiee = response.replace(\".\", \".\\n\")\n"
   ]
  },
  {
   "cell_type": "markdown",
   "metadata": {},
   "source": [
    "### II - Traduction"
   ]
  },
  {
   "cell_type": "code",
   "execution_count": 26,
   "metadata": {},
   "outputs": [],
   "source": [
    "os.environ['OPENAI_API_KEY'] = \"7e93421f46cd4680831023addcb0f42d\"\n",
    "os.environ['OPENAI_API_TYPE'] = 'azure'\n",
    "os.environ['OPENAI_API_VERSION'] = '2023-03-15-preview'\n",
    "os.environ['OPENAI_API_BASE'] = 'https://francecentral-openai.openai.azure.com/'"
   ]
  },
  {
   "cell_type": "code",
   "execution_count": 27,
   "metadata": {},
   "outputs": [],
   "source": [
    "from langchain.chains.combine_documents.stuff import StuffDocumentsChain\n",
    "from langchain.chains.llm import LLMChain\n",
    "from langchain.prompts import PromptTemplate\n",
    "from langchain.chat_models import AzureChatOpenAI\n",
    "from langchain.chains.summarize import load_summarize_chain\n",
    "from langchain.text_splitter import RecursiveCharacterTextSplitter\n",
    "from langchain_community.document_loaders import PyPDFLoader\n",
    "from langchain_core.messages import HumanMessage\n",
    "import re"
   ]
  },
  {
   "cell_type": "code",
   "execution_count": 50,
   "metadata": {},
   "outputs": [],
   "source": [
    "model_name = 'gpt-4-turbo'"
   ]
  },
  {
   "cell_type": "code",
   "execution_count": 51,
   "metadata": {},
   "outputs": [
    {
     "name": "stderr",
     "output_type": "stream",
     "text": [
      "/opt/homebrew/lib/python3.11/site-packages/langchain_community/chat_models/azure_openai.py:167: UserWarning: As of openai>=1.0.0, Azure endpoints should be specified via the `azure_endpoint` param not `openai_api_base` (or alias `base_url`). Updating `openai_api_base` from https://francecentral-openai.openai.azure.com/ to https://francecentral-openai.openai.azure.com/openai.\n",
      "  warnings.warn(\n",
      "/opt/homebrew/lib/python3.11/site-packages/langchain_community/chat_models/azure_openai.py:174: UserWarning: As of openai>=1.0.0, if `deployment_name` (or alias `azure_deployment`) is specified then `openai_api_base` (or alias `base_url`) should not be. Instead use `deployment_name` (or alias `azure_deployment`) and `azure_endpoint`.\n",
      "  warnings.warn(\n",
      "/opt/homebrew/lib/python3.11/site-packages/langchain_community/chat_models/azure_openai.py:182: UserWarning: As of openai>=1.0.0, if `openai_api_base` (or alias `base_url`) is specified it is expected to be of the form https://example-resource.azure.openai.com/openai/deployments/example-deployment. Updating https://francecentral-openai.openai.azure.com/ to https://francecentral-openai.openai.azure.com/openai.\n",
      "  warnings.warn(\n"
     ]
    }
   ],
   "source": [
    "llm_model = AzureChatOpenAI(\n",
    "    deployment_name=model_name,\n",
    "    model_name=model_name,\n",
    "    temperature=0\n",
    ")"
   ]
  },
  {
   "cell_type": "code",
   "execution_count": 52,
   "metadata": {},
   "outputs": [],
   "source": [
    "message = HumanMessage(\n",
    "    content= f\"\"\"\n",
    "    Assitant est un traducteur expert avec 20 ans d'expérience. Tu es bilingue français / anglais, car tu as la double nationalité.\n",
    "    \n",
    "    # Objectif\n",
    "    Si la vidéo est en Anglais, traduire le texte de l'anglais au français\n",
    "    \n",
    "    # Règles\n",
    "    - Le mot à mot n'est pas obligé\n",
    "    - Il est nécessaire de garder le sens des phrases\n",
    "    - Le contenu qui sera demandé à traduire provient de vidéos sur laquelle on a extrait le texte, il est alors normal que le texte puisse être approximatif\n",
    "    \n",
    "    # Exemple 1\n",
    "    Texte : You see that the new accounting results, our CSM and cash flow distribution extremely strong.  And we've had massive increases in effective rates on our book that are now coming through.\n",
    "    Réponse : Vous voyez que les résultats de la nouvelle comptabilité, notre CSM et la distribution des flux de trésorerie sont extrêmement solides.  Et nous avons eu des augmentations massives des taux effectifs sur nos comptes qui se concrétisent maintenant.\n",
    "    \n",
    "    # Texte à traduire: \n",
    "    {response}\n",
    "\"\"\"\n",
    ")\n"
   ]
  },
  {
   "cell_type": "code",
   "execution_count": 53,
   "metadata": {},
   "outputs": [],
   "source": [
    "response_translated = llm_model([message])\n"
   ]
  },
  {
   "cell_type": "code",
   "execution_count": 56,
   "metadata": {},
   "outputs": [
    {
     "name": "stdout",
     "output_type": "stream",
     "text": [
      "La première réponse est que tous nos segments sont en réalité très performants, ce qui est très important pour Allianz. Nous sommes très diversifiés à travers tous les segments et les gens n'ont pas, pour répondre à votre question, prévu que notre franchise très solide, probablement la meilleure au monde, se porte aussi bien, mais également la gestion d'actifs au quatrième trimestre a rattrapé son retard. Malgré la pression constante sur le marché des obligations, c'était un résultat remarquable. Et juste pour parler des flux, cela continue en cette nouvelle année. Les premières semaines, nous avons eu plus de flux vers la gestion de fonds que nous n'en avons eu sur toute l'année dernière, donc l'entreprise se porte extrêmement bien. Je vais vous demander votre avis sur les perspectives, car cette année, 14,7 milliards d'euros de bénéfice opérationnel, pour l'année prochaine, vous prévoyez une fourchette de 14,8 milliards d'euros plus ou moins 1 milliard d'euros. Cela semble un peu faible. Qu'est-ce que vous voyez à l'horizon qui vous donne un peu de manque de visibilité et suggère que les bénéfices pourraient même être plus bas ? La question, comme nous le faisons toujours, est que nous sommes très prudents. Nous opérons dans un monde qui est au bord de la guerre dans de nombreuses régions du monde. Et c'est une bonne tradition chez Allianz, si vous regardez les dernières années où j'ai été en charge, que nous prenons les résultats de l'année précédente comme base de ce que nous attendons pour la suite, plus un. Mais si vous regardez les chiffres des dernières années, nous avons fait 6 % de plus. Donc, nous aimons être prudents pour ne pas avoir à mettre constamment le marché à jour sur notre performance par rapport à l'objectif. C'est la vraie raison. Nous sommes très confiants pour cette année également. Pourquoi ? Premièrement, comme je l'ai mentionné, les flux de retour dans l'assurance-vie sont extrêmement stables. Vous voyez que les résultats de la nouvelle comptabilité, notre CSM et la distribution des flux de trésorerie sont extrêmement solides. Et nous avons eu des augmentations massives des taux effectifs sur nos comptes qui se concrétisent maintenant. Même sur le marché le plus difficile, des augmentations de prix effectives à deux chiffres. Donc, cette année s'annonce au moins aussi bonne que l'année dernière. Oliver, vraiment content de vous voir, au fait. Merci de nous avoir rejoints tous les deux. À quel point ces bénéfices extraordinaires que vous et tous les autres PDG d'AXA, de Zurich ces dernières 48 heures, etc., dépendent-ils ? Combien de temps ces bénéfices vraiment étendus peuvent-ils durer ? On a l'impression d'être au sommet du cycle, un point idéal en termes de taux, de primes, de ROE. Je me demandais juste, voyez-vous un moment, si vous dites que ça va être au moins aussi bien cette année à venir, où en fait cela va diminuer ? C'est une très bonne question. Merci beaucoup. Nous sommes très différents de nos concurrents car les entreprises que vous venez de mentionner sont essentiellement restées dans l'assurance dommages et ont une exposition significative aux lignes commerciales. Nous avons, où nous avons vu une fois par décennie, une rentabilité élevée, d'ailleurs aussi chez Allianz maintenant avec des bénéfices records et une rentabilité record. Mais souvenez-vous, nous avons une activité de détail extrêmement forte qui est plus forte que presque tous les autres. Et en plus, nous avons l'une des principales franchises d'assurance-vie au monde où pour notre nouvelle activité, par exemple, nous ne consommons plus de capital. Nous ajoutons donc des flux de trésorerie chaque année. Et la gestion d'actifs est de retour, en particulier sur le côté obligataire, qui a été sous pression à cause de la hausse des taux élevés ces dernières années. Donc, nous avons une structure totalement différente et beaucoup plus de résilience que de nombreuses autres entreprises. Intéressant, je regarde dans l'assurance dommages et je vois un peu de resserrement sur le ratio combiné, juste un peu. Et évidemment, vos pertes nettes et réclamations ont également légèrement augmenté. Oliver, est-ce une tendance ou une aberration ? Encore une fois, excellente question. Nous avons eu une autre année record de coups de Netcat. Et d'ailleurs, le monde change. Nous n'avons pas seulement de très grands événements, mais ce que vous voyez maintenant, c'est ce que nous appelons des micro-cyclones. Nous en avons eu un certain nombre en Europe l'année dernière. C'est pourquoi nous augmentons la charge Netcat dans nos calculs de primes à trois pour cent, ce qui est essentiellement le double par rapport à il y a dix ans. Et l'activité Netcat continue d'augmenter. La question clé est, pouvons-nous revoir les prix pour cela ? Et la réponse est absolument oui. Et nous refaisons également nos programmes de réassurance. Souvenez-vous, Allianz est l'une des rares compagnies d'assurance au monde qui peut placer une couverture globale sur le marché de la réassurance. Donc, bien que nous devions retenir plus d'activité Netcat, nous avons aussi une très bonne base de capital. La chose clé, cependant, est de rester sur nos gardes, de gérer l'inflation. Et vous allez voir des prix et des résultats significativement meilleurs dans le détail cette année. Puis-je prévoir tous les Netcat ? Non, je ne peux pas.\n"
     ]
    }
   ],
   "source": [
    "print(response_translated.content)"
   ]
  },
  {
   "cell_type": "code",
   "execution_count": 59,
   "metadata": {},
   "outputs": [],
   "source": [
    "response_translated_str = response_translated.content"
   ]
  },
  {
   "cell_type": "code",
   "execution_count": 60,
   "metadata": {},
   "outputs": [
    {
     "data": {
      "text/plain": [
       "\"La première réponse est que tous nos segments sont en réalité très performants, ce qui est très important pour Allianz. Nous sommes très diversifiés à travers tous les segments et les gens n'ont pas, pour répondre à votre question, prévu que notre franchise très solide, probablement la meilleure au monde, se porte aussi bien, mais également la gestion d'actifs au quatrième trimestre a rattrapé son retard. Malgré la pression constante sur le marché des obligations, c'était un résultat remarquable. Et juste pour parler des flux, cela continue en cette nouvelle année. Les premières semaines, nous avons eu plus de flux vers la gestion de fonds que nous n'en avons eu sur toute l'année dernière, donc l'entreprise se porte extrêmement bien. Je vais vous demander votre avis sur les perspectives, car cette année, 14,7 milliards d'euros de bénéfice opérationnel, pour l'année prochaine, vous prévoyez une fourchette de 14,8 milliards d'euros plus ou moins 1 milliard d'euros. Cela semble un peu faible. Qu'est-ce que vous voyez à l'horizon qui vous donne un peu de manque de visibilité et suggère que les bénéfices pourraient même être plus bas ? La question, comme nous le faisons toujours, est que nous sommes très prudents. Nous opérons dans un monde qui est au bord de la guerre dans de nombreuses régions du monde. Et c'est une bonne tradition chez Allianz, si vous regardez les dernières années où j'ai été en charge, que nous prenons les résultats de l'année précédente comme base de ce que nous attendons pour la suite, plus un. Mais si vous regardez les chiffres des dernières années, nous avons fait 6 % de plus. Donc, nous aimons être prudents pour ne pas avoir à mettre constamment le marché à jour sur notre performance par rapport à l'objectif. C'est la vraie raison. Nous sommes très confiants pour cette année également. Pourquoi ? Premièrement, comme je l'ai mentionné, les flux de retour dans l'assurance-vie sont extrêmement stables. Vous voyez que les résultats de la nouvelle comptabilité, notre CSM et la distribution des flux de trésorerie sont extrêmement solides. Et nous avons eu des augmentations massives des taux effectifs sur nos comptes qui se concrétisent maintenant. Même sur le marché le plus difficile, des augmentations de prix effectives à deux chiffres. Donc, cette année s'annonce au moins aussi bonne que l'année dernière. Oliver, vraiment content de vous voir, au fait. Merci de nous avoir rejoints tous les deux. À quel point ces bénéfices extraordinaires que vous et tous les autres PDG d'AXA, de Zurich ces dernières 48 heures, etc., dépendent-ils ? Combien de temps ces bénéfices vraiment étendus peuvent-ils durer ? On a l'impression d'être au sommet du cycle, un point idéal en termes de taux, de primes, de ROE. Je me demandais juste, voyez-vous un moment, si vous dites que ça va être au moins aussi bien cette année à venir, où en fait cela va diminuer ? C'est une très bonne question. Merci beaucoup. Nous sommes très différents de nos concurrents car les entreprises que vous venez de mentionner sont essentiellement restées dans l'assurance dommages et ont une exposition significative aux lignes commerciales. Nous avons, où nous avons vu une fois par décennie, une rentabilité élevée, d'ailleurs aussi chez Allianz maintenant avec des bénéfices records et une rentabilité record. Mais souvenez-vous, nous avons une activité de détail extrêmement forte qui est plus forte que presque tous les autres. Et en plus, nous avons l'une des principales franchises d'assurance-vie au monde où pour notre nouvelle activité, par exemple, nous ne consommons plus de capital. Nous ajoutons donc des flux de trésorerie chaque année. Et la gestion d'actifs est de retour, en particulier sur le côté obligataire, qui a été sous pression à cause de la hausse des taux élevés ces dernières années. Donc, nous avons une structure totalement différente et beaucoup plus de résilience que de nombreuses autres entreprises. Intéressant, je regarde dans l'assurance dommages et je vois un peu de resserrement sur le ratio combiné, juste un peu. Et évidemment, vos pertes nettes et réclamations ont également légèrement augmenté. Oliver, est-ce une tendance ou une aberration ? Encore une fois, excellente question. Nous avons eu une autre année record de coups de Netcat. Et d'ailleurs, le monde change. Nous n'avons pas seulement de très grands événements, mais ce que vous voyez maintenant, c'est ce que nous appelons des micro-cyclones. Nous en avons eu un certain nombre en Europe l'année dernière. C'est pourquoi nous augmentons la charge Netcat dans nos calculs de primes à trois pour cent, ce qui est essentiellement le double par rapport à il y a dix ans. Et l'activité Netcat continue d'augmenter. La question clé est, pouvons-nous revoir les prix pour cela ? Et la réponse est absolument oui. Et nous refaisons également nos programmes de réassurance. Souvenez-vous, Allianz est l'une des rares compagnies d'assurance au monde qui peut placer une couverture globale sur le marché de la réassurance. Donc, bien que nous devions retenir plus d'activité Netcat, nous avons aussi une très bonne base de capital. La chose clé, cependant, est de rester sur nos gardes, de gérer l'inflation. Et vous allez voir des prix et des résultats significativement meilleurs dans le détail cette année. Puis-je prévoir tous les Netcat ? Non, je ne peux pas.\""
      ]
     },
     "execution_count": 60,
     "metadata": {},
     "output_type": "execute_result"
    }
   ],
   "source": [
    "response_translated_str"
   ]
  },
  {
   "cell_type": "markdown",
   "metadata": {},
   "source": [
    "### III - Résumer"
   ]
  },
  {
   "cell_type": "code",
   "execution_count": 67,
   "metadata": {},
   "outputs": [],
   "source": [
    "from langchain.chains import SequentialChain\n",
    "from langchain.chains import LLMChain\n",
    "from langchain.chains import SimpleSequentialChain\n",
    "from langchain.prompts import ChatPromptTemplate"
   ]
  },
  {
   "cell_type": "code",
   "execution_count": 148,
   "metadata": {},
   "outputs": [],
   "source": [
    "# Chain 1: extraction des thématiques \n",
    "\n",
    "# prompt template 1: \n",
    "first_prompt = ChatPromptTemplate.from_template(\n",
    "    ''' \\n Tu es un assistant expert dans le domaine financier et en assurance. Tu sais bien extraire les informations à partir d'un\n",
    "passage de texte.\n",
    "Ces informations sont généralement des chiffres, des montants, des dates, et pourraient être autour de:\n",
    "-Présentation de l'organisme.\n",
    "-Activité de l'organisme (Chiffre d'affaire, Variations, pourcentages, montants, nombres,\n",
    "Résultat technique, Résultat financier, Résultat net après impôts)\n",
    "-Placements autres que les actifs en represenation de contrats en UC ou indexe.\n",
    "-Changement de la gouvernance.\n",
    "-Perspectives vision de l'organisme et projets futurs.\n",
    "#Règles:\n",
    "Tu ne dois pas modifier les valeurs des données financières (EXP: Chiffres d'affaires, pourcentages, taux, montants, ratio de solvabilité, ratio de couverture du SCR etc)\n",
    "N'invente pas des informations qui ni fugrent pas dans le texte.\n",
    "Et le resume de fin devrait sous forme de six paragraphes comme suit:\n",
    "1) Présentation de l'organisme.\n",
    "2) Activité de l'organisme (Chiffre d'affaire, Variations, pourcentages, montants, nombres,\n",
    "Résultat technique, Résultat financier, Résultat net après impôts)\n",
    "3) Provisionnement\n",
    "4) Placements autres que les actifs en represenation de contrats en UC ou indexe.\n",
    "5) Changement de la gouvernance.\n",
    "6) Perspectives vision de l'organisme et projets futurs.\n",
    "Le texte est le suivant:{response_translated_str}\n",
    "'''\n",
    ")\n",
    "# Output= themes\n",
    "chain_one = LLMChain(llm=llm_model, \n",
    "                     prompt=first_prompt, \n",
    "                     output_key=\"themes\"\n",
    "                    )\n"
   ]
  },
  {
   "cell_type": "code",
   "execution_count": 150,
   "metadata": {},
   "outputs": [],
   "source": [
    "# Concat\n",
    "overall_simple_chain = SimpleSequentialChain(chains=[chain_one], verbose=True)"
   ]
  },
  {
   "cell_type": "code",
   "execution_count": 151,
   "metadata": {},
   "outputs": [
    {
     "name": "stdout",
     "output_type": "stream",
     "text": [
      "\n",
      "\n",
      "\u001b[1m> Entering new SimpleSequentialChain chain...\u001b[0m\n",
      "\u001b[36;1m\u001b[1;3m1) Présentation de l'organisme:\n",
      "Allianz est un organisme financier diversifié, opérant dans différents segments du marché financier et de l'assurance. Il est reconnu pour sa franchise solide, considérée comme l'une des meilleures au monde, et pour sa gestion d'actifs performante.\n",
      "\n",
      "2) Activité de l'organisme:\n",
      "Allianz a enregistré un bénéfice opérationnel de 14,7 milliards d'euros pour l'année précédente et prévoit un bénéfice opérationnel pour l'année suivante dans une fourchette de 14,8 milliards d'euros, plus ou moins 1 milliard d'euros. La société a connu une performance remarquable malgré la pression sur le marché des obligations et a vu des flux de retour dans la gestion de fonds plus importants dans les premières semaines de l'année que sur toute l'année dernière. Les résultats techniques et financiers sont solides, avec des augmentations de prix effectives à deux chiffres même sur les marchés difficiles.\n",
      "\n",
      "3) Provisionnement:\n",
      "Le texte ne fournit pas d'informations spécifiques sur le provisionnement, donc cette section ne peut pas être complétée sans spéculer.\n",
      "\n",
      "4) Placements autres que les actifs en représentation de contrats en UC ou indexés:\n",
      "Le texte ne mentionne pas de détails sur les placements autres que les actifs en représentation de contrats en UC ou indexés, donc cette section ne peut pas être complétée sans spéculer.\n",
      "\n",
      "5) Changement de la gouvernance:\n",
      "Il n'y a pas d'information fournie dans le texte concernant un changement de gouvernance chez Allianz.\n",
      "\n",
      "6) Perspectives vision de l'organisme et projets futurs:\n",
      "Allianz se montre prudent dans ses prévisions, en raison de l'incertitude mondiale et des risques géopolitiques. Cependant, l'entreprise reste confiante pour l'année à venir, s'attendant à ce que les performances soient au moins aussi bonnes que l'année précédente. La société prévoit de gérer l'inflation et d'ajuster ses prix en conséquence, tout en améliorant ses programmes de réassurance pour faire face à une augmentation des événements catastrophiques naturels (Netcat).\u001b[0m\n",
      "\n",
      "\u001b[1m> Finished chain.\u001b[0m\n"
     ]
    },
    {
     "data": {
      "text/plain": [
       "\"1) Présentation de l'organisme:\\nAllianz est un organisme financier diversifié, opérant dans différents segments du marché financier et de l'assurance. Il est reconnu pour sa franchise solide, considérée comme l'une des meilleures au monde, et pour sa gestion d'actifs performante.\\n\\n2) Activité de l'organisme:\\nAllianz a enregistré un bénéfice opérationnel de 14,7 milliards d'euros pour l'année précédente et prévoit un bénéfice opérationnel pour l'année suivante dans une fourchette de 14,8 milliards d'euros, plus ou moins 1 milliard d'euros. La société a connu une performance remarquable malgré la pression sur le marché des obligations et a vu des flux de retour dans la gestion de fonds plus importants dans les premières semaines de l'année que sur toute l'année dernière. Les résultats techniques et financiers sont solides, avec des augmentations de prix effectives à deux chiffres même sur les marchés difficiles.\\n\\n3) Provisionnement:\\nLe texte ne fournit pas d'informations spécifiques sur le provisionnement, donc cette section ne peut pas être complétée sans spéculer.\\n\\n4) Placements autres que les actifs en représentation de contrats en UC ou indexés:\\nLe texte ne mentionne pas de détails sur les placements autres que les actifs en représentation de contrats en UC ou indexés, donc cette section ne peut pas être complétée sans spéculer.\\n\\n5) Changement de la gouvernance:\\nIl n'y a pas d'information fournie dans le texte concernant un changement de gouvernance chez Allianz.\\n\\n6) Perspectives vision de l'organisme et projets futurs:\\nAllianz se montre prudent dans ses prévisions, en raison de l'incertitude mondiale et des risques géopolitiques. Cependant, l'entreprise reste confiante pour l'année à venir, s'attendant à ce que les performances soient au moins aussi bonnes que l'année précédente. La société prévoit de gérer l'inflation et d'ajuster ses prix en conséquence, tout en améliorant ses programmes de réassurance pour faire face à une augmentation des événements catastrophiques naturels (Netcat).\""
      ]
     },
     "execution_count": 151,
     "metadata": {},
     "output_type": "execute_result"
    }
   ],
   "source": [
    "overall_simple_chain.run(response_translated_str)\n",
    "\n"
   ]
  }
 ],
 "metadata": {
  "kernelspec": {
   "display_name": "Python 3",
   "language": "python",
   "name": "python3"
  },
  "language_info": {
   "codemirror_mode": {
    "name": "ipython",
    "version": 3
   },
   "file_extension": ".py",
   "mimetype": "text/x-python",
   "name": "python",
   "nbconvert_exporter": "python",
   "pygments_lexer": "ipython3",
   "version": "3.11.8"
  }
 },
 "nbformat": 4,
 "nbformat_minor": 2
}
