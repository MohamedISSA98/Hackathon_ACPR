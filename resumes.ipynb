{
 "cells": [
  {
   "cell_type": "code",
   "execution_count": 1,
   "metadata": {},
   "outputs": [],
   "source": [
    "import os\n",
    "import requests\n",
    "import base64"
   ]
  },
  {
   "cell_type": "code",
   "execution_count": 32,
   "metadata": {},
   "outputs": [],
   "source": [
    "# from config import *"
   ]
  },
  {
   "cell_type": "code",
   "execution_count": 2,
   "metadata": {},
   "outputs": [],
   "source": [
    "os.environ['OPENAI_API_KEY'] = OPENAI_API_KEY\n",
    "os.environ['OPENAI_API_TYPE'] = 'azure'\n",
    "os.environ['OPENAI_API_VERSION'] = '2023-03-15-preview'\n",
    "os.environ['OPENAI_API_BASE'] = OPENAI_API_BASE"
   ]
  },
  {
   "cell_type": "code",
   "execution_count": 3,
   "metadata": {},
   "outputs": [],
   "source": [
    "from langchain.chains.combine_documents.stuff import StuffDocumentsChain\n",
    "from langchain.chains.llm import LLMChain\n",
    "from langchain.prompts import PromptTemplate\n",
    "from langchain.chat_models import AzureChatOpenAI\n",
    "from langchain.chains.summarize import load_summarize_chain\n",
    "from langchain.text_splitter import RecursiveCharacterTextSplitter\n",
    "from langchain_community.document_loaders import PyPDFLoader\n",
    "import re"
   ]
  },
  {
   "cell_type": "code",
   "execution_count": 4,
   "metadata": {},
   "outputs": [],
   "source": [
    "model_name = 'gpt-4-turbo' #'gpt-35-turbo'"
   ]
  },
  {
   "cell_type": "code",
   "execution_count": 5,
   "metadata": {},
   "outputs": [],
   "source": [
    "# initialize tokenizer\n",
    "import tiktoken\n",
    "enc = tiktoken.encoding_for_model(model_name)"
   ]
  },
  {
   "cell_type": "code",
   "execution_count": 6,
   "metadata": {},
   "outputs": [
    {
     "name": "stderr",
     "output_type": "stream",
     "text": [
      "/home/issa/miniconda3/envs/LangChain/lib/python3.10/site-packages/langchain_core/_api/deprecation.py:117: LangChainDeprecationWarning: The class `langchain_community.chat_models.azure_openai.AzureChatOpenAI` was deprecated in langchain-community 0.0.10 and will be removed in 0.2.0. An updated version of the class exists in the langchain-openai package and should be used instead. To use it run `pip install -U langchain-openai` and import as `from langchain_openai import AzureChatOpenAI`.\n",
      "  warn_deprecated(\n",
      "/home/issa/miniconda3/envs/LangChain/lib/python3.10/site-packages/langchain_community/chat_models/azure_openai.py:167: UserWarning: As of openai>=1.0.0, Azure endpoints should be specified via the `azure_endpoint` param not `openai_api_base` (or alias `base_url`). Updating `openai_api_base` from https://francecentral-openai.openai.azure.com/ to https://francecentral-openai.openai.azure.com/openai.\n",
      "  warnings.warn(\n",
      "/home/issa/miniconda3/envs/LangChain/lib/python3.10/site-packages/langchain_community/chat_models/azure_openai.py:174: UserWarning: As of openai>=1.0.0, if `deployment_name` (or alias `azure_deployment`) is specified then `openai_api_base` (or alias `base_url`) should not be. Instead use `deployment_name` (or alias `azure_deployment`) and `azure_endpoint`.\n",
      "  warnings.warn(\n",
      "/home/issa/miniconda3/envs/LangChain/lib/python3.10/site-packages/langchain_community/chat_models/azure_openai.py:182: UserWarning: As of openai>=1.0.0, if `openai_api_base` (or alias `base_url`) is specified it is expected to be of the form https://example-resource.azure.openai.com/openai/deployments/example-deployment. Updating https://francecentral-openai.openai.azure.com/ to https://francecentral-openai.openai.azure.com/openai.\n",
      "  warnings.warn(\n"
     ]
    }
   ],
   "source": [
    "llm = AzureChatOpenAI(\n",
    "    deployment_name=model_name,\n",
    "    model_name=model_name,\n",
    "    temperature=0,\n",
    ")"
   ]
  },
  {
   "cell_type": "code",
   "execution_count": 15,
   "metadata": {},
   "outputs": [],
   "source": [
    "def transform_func(inputs: dict) -> dict:\n",
    "    text = inputs[\"text\"]\n",
    "    \n",
    "    # replace multiple new lines and multiple spaces with a single one\n",
    "    text = re.sub(r'(\\r\\n|\\r|\\n){2,}', r'\\n', text)\n",
    "    text = re.sub(r'[ \\t]+', ' ', text)\n",
    "\n",
    "    return {\"output_text\": text}"
   ]
  },
  {
   "cell_type": "markdown",
   "metadata": {},
   "source": [
    "## Map Reduce"
   ]
  },
  {
   "cell_type": "code",
   "execution_count": 7,
   "metadata": {},
   "outputs": [],
   "source": [
    "map_prompt = \"\"\"\n",
    "Tu es un assistant expert dans le domaine financier et en assurance. Tu sais bien extraire les informations à partir d'un\n",
    "passage de texte.\n",
    "\n",
    "Ces informations sont généralement des chiffres, des montants, des dates, et pourraient être autour de:\n",
    "-Présentation de l'organisme.\n",
    "-Activité de l'organisme (Chiffre d'affaire, Variations, pourcentages, montants, nombres,\n",
    "Résultat technique, Résultat financier, Résultat net après impôts).\n",
    "-Provisions de l'organisation.\n",
    "-Placements autres que les actifs en represenation de contrats en UC ou indexe.\n",
    "-Changement de la gouvernance.\n",
    "-Perspectives vision de l'organisme et projets futurs.\n",
    "\n",
    "#Règles: \n",
    "- Tu ne dois pas modifier les valeurs des données financières (EXP: Chiffres d'affaires, pourcentages, taux, montants, ratio de solvabilité, ratio de couverture du SCR etc)\n",
    "- N'invente pas des informations qui ni fugrent pas dans le texte.\n",
    "\n",
    "Ecris moi un résumé  pour le texte suivant:\n",
    "\"{text}\"\n",
    "Résumé:\n",
    "\"\"\"\n",
    "map_prompt_template = PromptTemplate(template=map_prompt, input_variables=[\"text\"])"
   ]
  },
  {
   "cell_type": "code",
   "execution_count": 8,
   "metadata": {},
   "outputs": [],
   "source": [
    "combine_prompt = \"\"\"\n",
    "Tu es un assistant expert dans le domaine financier et en assurance.\n",
    "\n",
    "#Règles: \n",
    "- Tu ne dois pas modifier les valeurs des données financières (EXP: Chiffres d'affaires, pourcentages, taux, montants, ratio de solvabilité, ratio de couverture du SCR etc)\n",
    "\n",
    "Reproduis moi le texte:\n",
    "```{text}```\n",
    "Résumé:\n",
    "\"\"\"\n",
    "combine_prompt_template = PromptTemplate(template=combine_prompt, input_variables=[\"text\"])"
   ]
  },
  {
   "cell_type": "code",
   "execution_count": 9,
   "metadata": {},
   "outputs": [],
   "source": [
    "#This is the summarization chain\n",
    "summary_chain_map_reduce = load_summarize_chain(llm=llm,\n",
    "                                     chain_type='map_reduce',\n",
    "                                     map_prompt=map_prompt_template,\n",
    "                                     combine_prompt=combine_prompt_template,\n",
    "#                                      verbose=True\n",
    "                                    )"
   ]
  },
  {
   "cell_type": "code",
   "execution_count": 10,
   "metadata": {},
   "outputs": [],
   "source": [
    "def load_and_preprocess(path: str) -> str:\n",
    "    '''\n",
    "    Load SFCR report from path\n",
    "    '''\n",
    "    loader = PyPDFLoader(path)\n",
    "    pages = loader.load()\n",
    "    # Combine the pages, and replace the tabs with spaces\n",
    "    text = \"\"\n",
    "\n",
    "    for page in pages:\n",
    "        text += page.page_content\n",
    "    \n",
    "    text_refined = transform_func({'text': text})\n",
    "    return text_refined['output_text']"
   ]
  },
  {
   "cell_type": "code",
   "execution_count": 11,
   "metadata": {},
   "outputs": [],
   "source": [
    "def summarize_map_reduce(summary_chain, text:str) -> str:\n",
    "    '''\n",
    "    Use summary_chain to generate a summary for the given SFCR report (text) using Map Reduce\n",
    "    '''\n",
    "    #split text into chunks\n",
    "    text_splitter = RecursiveCharacterTextSplitter(chunk_size=10500, chunk_overlap=300)\n",
    "    docs = text_splitter.create_documents([text])\n",
    "\n",
    "    #compute number of tokens before the summarisation\n",
    "    length_before = len(enc.encode(text=text))\n",
    "    print (f\"length of text before summarization: {length_before} tokens\")\n",
    "\n",
    "    #Generate the summary\n",
    "    output = summary_chain.run(docs)\n",
    "\n",
    "    #compute number of tokens after the summarisation\n",
    "    length_after = len(enc.encode(text=output))\n",
    "    print (f\"length of text after summarization: {length_after} tokens\")\n",
    "\n",
    "    return output\n"
   ]
  },
  {
   "cell_type": "code",
   "execution_count": 12,
   "metadata": {},
   "outputs": [],
   "source": [
    "def save_text(text, name, version=1):\n",
    "    '''\n",
    "    Save generated text\n",
    "    '''\n",
    "    with open('generated_files/'+name+'_'+str(version)+'.txt', 'w') as f:\n",
    "        f.write(text)\n",
    "\n",
    "def load_text(name, version=1):\n",
    "    '''\n",
    "    Load generated text\n",
    "    '''\n",
    "    with open('generated_files/'+name+'_'+str(version)+'.txt', 'r') as f:\n",
    "        return f.read()"
   ]
  },
  {
   "cell_type": "code",
   "execution_count": 189,
   "metadata": {},
   "outputs": [
    {
     "name": "stdout",
     "output_type": "stream",
     "text": [
      "length of text before summarization: 76613 tokens\n",
      "length of text after summarization: 803 tokens\n"
     ]
    }
   ],
   "source": [
    "text = load_and_preprocess(\"data/rapport-solvabilite-2021-maif-vie.pdf\")\n",
    "rapport_n_1 = summarize_map_reduce(summary_chain_map_reduce, text)"
   ]
  },
  {
   "cell_type": "code",
   "execution_count": 191,
   "metadata": {},
   "outputs": [],
   "source": [
    "# save_text(rapport_n_1, 'maif_vie_2021', version=2)"
   ]
  },
  {
   "cell_type": "code",
   "execution_count": 190,
   "metadata": {},
   "outputs": [
    {
     "name": "stdout",
     "output_type": "stream",
     "text": [
      "Le rapport sur la solvabilité et la situation financière 2021 de MAIF VIE, approuvé le 30 mars 2022, indique une hausse de 10% des encaissements bruts de réassurance et un résultat net comptable de 50 332 milliers d'euros. La société est dirigée par Dominique Mahé et Hélène N’Diaye et dispose d'une gouvernance solide et d'un système de gestion des risques efficace. MAIF VIE, qui n'est pas spécifiquement exposée aux risques du conflit Russie-Ukraine, est régulée par l'ACPR et auditée par PricewaterhouseCoopers Audit et Mazars. Avec un capital de 122 millions d'euros et plus de 587 400 adhérents, elle propose divers produits d'assurance et d'épargne.\n",
      "\n",
      "La société affiche des ratios de solvabilité robustes avec 248% pour le SCR et 536% pour le MCR, et des fonds propres de base de niveau 1 de 1,187,963 milliards d'euros. Elle est majoritairement détenue par MAIF et ne distribue pas de dividendes.\n",
      "\n",
      "En 2021, MAIF VIE a connu une croissance de 5,2% de ses adhérents et une augmentation des frais généraux, avec un résultat de gestion négatif mais des résultats techniques et financiers positifs. La gouvernance est composée d'un conseil d'administration renouvelé tous les six ans, qui s'est réuni cinq fois en 2021. SMACL ASSURANCES SA rejoindra la gouvernance du groupe en 2022.\n",
      "\n",
      "MAIF VIE gère principalement les risques de souscription vie et de marché, avec une politique de réassurance alignée sur celle du groupe et des investissements financiers réalisés selon le principe de la personne prudente. Elle est attentive aux risques financiers et utilise des études actif/passif pour l'allocation d'actifs, tout en s'engageant dans une gestion d'actifs responsable.\n",
      "\n",
      "Le rapport détaille les postes du bilan et les principes de valorisation selon les normes Solvabilité 2 et les normes comptables françaises. Les fonds propres comptables s'élevaient à 591 485 milliers d'euros et les fonds propres en normes Solvabilité 2 à 1 222 463 milliers d'euros au 31 décembre 2021. MAIF VIE n'utilise pas de mesures temporaires de Solvabilité 2 ni de fonds propres auxiliaires, et a émis des titres subordonnés pour 34 500 milliers d'euros. Le SCR était de 492 938 milliers d'euros et le MCR de 221 822 milliers d'euros. Le rapport 2021 indique un total de l'actif de 13 229 164 euros et un total du passif de 12 041 201 euros.\n",
      "\n",
      "Les fonds propres de base avant déductions sont de 1 222 463 K€, répartis entre 1 187 963 K€ en Niveau 1 non restreint, 34 500 K€ en Niveau 2, et aucun en Niveau 1 restreint ou Niveau 3. Les ratios de couverture sont de 248,00% pour le SCR et 535,55% pour le MCR. Le rapport ne fournit pas d'informations sur les placements, la gouvernance et les perspectives futures.\n"
     ]
    }
   ],
   "source": [
    "print(rapport_n_1)"
   ]
  },
  {
   "cell_type": "code",
   "execution_count": 13,
   "metadata": {},
   "outputs": [],
   "source": [
    "rapport_n_1 = load_text('maif_vie_2021', version=2)"
   ]
  },
  {
   "cell_type": "code",
   "execution_count": 16,
   "metadata": {},
   "outputs": [
    {
     "name": "stdout",
     "output_type": "stream",
     "text": [
      "length of text before summarization: 76920 tokens\n"
     ]
    },
    {
     "name": "stderr",
     "output_type": "stream",
     "text": [
      "/home/issa/miniconda3/envs/LangChain/lib/python3.10/site-packages/langchain_core/_api/deprecation.py:117: LangChainDeprecationWarning: The function `run` was deprecated in LangChain 0.1.0 and will be removed in 0.2.0. Use invoke instead.\n",
      "  warn_deprecated(\n"
     ]
    },
    {
     "name": "stdout",
     "output_type": "stream",
     "text": [
      "length of text after summarization: 2909 tokens\n"
     ]
    }
   ],
   "source": [
    "text = load_and_preprocess(\"data/rapport-solvabilite-2022-maif-vie.pdf\")\n",
    "rapport_n = summarize_map_reduce(summary_chain_map_reduce, text)"
   ]
  },
  {
   "cell_type": "code",
   "execution_count": 20,
   "metadata": {},
   "outputs": [
    {
     "name": "stdout",
     "output_type": "stream",
     "text": [
      "MAIF VIE, basée à Niort depuis 1984 et devenue société à mission en 2021, est une filiale de la MAIF. Sous la supervision de l'ACPR, elle a réalisé en 2022 des encaissements bruts de réassurance de 834 368 milliers d'euros, un taux de rémunération net de 2,10 % et un résultat net comptable de 51 214 milliers d'euros. Yves Pellicier est président du conseil d'administration depuis juin 2022, secondé par les directrices Hélène N’Diaye et Marina Sellari. L'entreprise compte 614 500 adhérents et 222 employés et propose des produits d'épargne, de prévoyance et d'assurance prêt.\n",
      "\n",
      "Un plan stratégique pour 2023-2026 est en cours, et la gouvernance a été renforcée en 2018 avec l'introduction de quatre fonctions clés de contrôle réglementaires. La masse salariale a connu une hausse de 2,71 % en 2022. Les membres du conseil et les dirigeants respectent des critères de compétence et d'honorabilité et suivent des formations dédiées. La gestion des risques est collaborative et intègre l'ORSA.\n",
      "\n",
      "Le rapport sur la solvabilité et la situation financière de 2022 inclut les contrôles internes, la gouvernance, la cartographie des risques et le plan de continuité des activités, avec un audit interne certifié par l'IIA. MAIF VIE respecte la Directive Solvabilité II et a actualisé sa Politique de sous-traitance en 2022. Le SCR couvre les risques vitaux, y compris les risques de souscription vie et de marché.\n",
      "\n",
      "En 2022, l'entreprise a fait face à des défis mondiaux comme la guerre en Ukraine et la crise énergétique, mais sans augmentation significative des rachats. Sa politique de réassurance est cohérente avec celle du groupe MAIF. La croissance mondiale a ralenti à environ 3,2% en 2022, influencée par les politiques monétaires et les hausses de taux de la FED et de la BCE.\n",
      "\n",
      "Le rapport 2022 de MAIF VIE couvre la solvabilité et la situation financière de l'entreprise, mettant en lumière la gestion des risques financiers et opérationnels. Le risque de défaut de contrepartie est évalué selon la formule standard, tandis que le risque de liquidité est bien couvert, avec des investissements dans des actifs liquides et un ratio de liquidité inspiré de Bâle III. Des projections de flux de trésorerie sont effectuées régulièrement pour anticiper les besoins, et des mesures sont en place pour les risques opérationnels définis par Solvabilité 2.\n",
      "\n",
      "MAIF VIE a maintenu une bonne liquidité sans céder de titres en 2022 et a mis en œuvre des processus pour gérer les risques non quantifiables, comme le risque de modèle. Le groupe MAIF surveille son image et sa réputation et est attentif aux risques économiques et juridiques qui pourraient impacter ses produits d'assurance vie.\n",
      "\n",
      "En termes de durabilité, MAIF VIE s'engage dans la transition énergétique et écologique, avec 93% de ses actifs financiers dans des investissements socialement responsables et une politique d'investissement alignée sur les enjeux climatiques. La société vise la neutralité carbone d'ici 2050 et a adopté une stratégie de réduction des émissions de gaz à effet de serre, excluant le financement d'entreprises liées au charbon thermique et à d'autres énergies fossiles.\n",
      "\n",
      "Le bilan prudentiel de MAIF VIE au 31 décembre 2022 montre un total d'actifs de 11 487 276 milliers d'euros selon Solvabilité 2, avec des écarts par rapport aux normes comptables françaises. Les actifs et passifs sont valorisés selon les normes Solvabilité 2, avec des ajustements nécessaires pour se conformer à la directive 2009/138/CE et au règlement délégué 2015/35 de la commission européenne.\n",
      "\n",
      "Les placements sont majoritairement valorisés par référence à des marchés actifs, et les provisions techniques sont évaluées sans mesures transitoires, utilisant la courbe des taux sans risque de l'EIOPA. Les produits d'assurance de MAIF VIE couvrent divers types de risques et sont classés par ligne d'activité.\n",
      "\n",
      "Le rapport sur la solvabilité et la situation financière 2022 de MAIF VIE détaille les méthodes et hypothèses utilisées pour la valorisation à des fins de solvabilité, la modélisation des risques, et la gestion des provisions techniques et des actifs. MAIF VIE utilise des outils de modélisation de Moody's Analytics pour les projections économiques et des approches déterministes et stochastiques pour estimer les provisions techniques. La réassurance est modélisée selon le programme en place, et les données contractuelles et de placement sont régulièrement mises à jour.\n",
      "\n",
      "Les charges de gestion sont basées sur les coûts moyens sur trois exercices, et les paramètres de tarification, commissions, impôts et prélèvements sociaux sont pris en compte. La meilleure estimation des provisions techniques vie au 31 décembre 2022 montre une prépondérance des contrats d'assurance vie avec participation aux bénéfices, et la marge de risque est principalement attribuée à ces contrats.\n",
      "\n",
      "MAIF VIE gère les impôts différés en ne les comptabilisant que s'ils peuvent être utilisés contre des bénéfices imposables futurs. Les dettes subordonnées sont incluses dans les fonds propres de base et évaluées à leur montant nominal selon les normes Solvabilité 2.\n",
      "\n",
      "La société dispose d'un ratio de couverture de 162% pour le SCR et de 535% pour le MCR, indiquant une couverture satisfaisante des exigences réglementaires en matière de solvabilité. Les fonds propres comptables ont augmenté en 2022, et MAIF VIE a une politique de non-versement de dividendes pour autofinancer son développement. Le rapport indique une baisse des fonds propres de base niveau 1 et une hausse du SCR par rapport à l'année précédente, tout en maintenant des ratios de couverture satisfaisants.\n",
      "\n",
      "MAIF VIE est une compagnie d'assurance qui respecte les exigences réglementaires en matière de solvabilité, sans utiliser de modèle interne ou de paramètres spécifiques pour le calcul du Capital de solvabilité requis (SCR) ou du Capital minimum requis (MCR). Elle ne fait pas usage de l'option du sous-module \"risque sur actions\" fondé sur la durée dans le calcul du SCR et n'a pas d'autres informations notables à communiquer sur la gestion du capital.\n",
      "\n",
      "Le bilan de MAIF VIE montre un total d'actifs de 11 487 276 euros, avec des investissements (hors actifs en représentation de contrats en unités de compte et indexés) s'élevant à 10 560 376 euros, dont 7 506 141 euros en obligations et 1 999 689 euros dans des organismes de placement collectif. Les prêts et prêts hypothécaires s'élèvent à 2 885 euros et les montants recouvrables au titre des contrats de réassurance sont de 56 845 euros. Les créances nées d'opérations d'assurance et montants à recevoir d'intermédiaires sont de 11 750 euros, et la trésorerie et équivalents de trésorerie s'élèvent à 49 968 euros.\n",
      "\n",
      "Les provisions techniques vie (hors UC et indexés) sont de 9 451 048 euros, avec une meilleure estimation de 9 166 708 euros et une marge de risque de 284 341 euros. Les provisions techniques UC et indexés sont de 777 106 euros, avec une meilleure estimation de 766 056 euros et une marge de risque de 11 050 euros. Le passif total est de 10 426 030 euros, avec un excédent d'actif sur passif de 1 061 246 euros.\n",
      "\n",
      "En ce qui concerne les primes, sinistres et dépenses par ligne d'activité, les données sont présentées pour les engagements d'assurance vie et de réassurance vie. Les primes émises nettes pour l'assurance maladie sont de 626 919 euros, pour l'assurance avec participation aux bénéfices de 131 456 euros, pour l'assurance indexée et en unités de compte de 50 639 euros, et pour les autres assurances vie de 809 014 euros. La charge nette des sinistres pour ces mêmes catégories est respectivement de 543 948 euros, 22 774 euros, 13 218 euros et 579 941 euros. Les dépenses totales engagées pour les engagements d'assurance vie s'élèvent à 93 184 euros.\n",
      "\n",
      "Les provisions techniques assimilables à la vie par contrat montrent une meilleure estimation brute de 9 187 163 euros pour les contrats sans options ni garanties et de 766 056 euros pour les contrats avec options ou garanties.\n",
      "\n",
      "Le rapport sur la solvabilité et la situation financière de MAIF VIE pour l'année 2022 présente les données financières clés suivantes :\n",
      "\n",
      "- Les provisions techniques brutes s'élèvent à 9 187 163 766 056 euros, avec une meilleure estimation nette des montants récupérables au titre de la réassurance et autres véhicules s'élevant à 9 111 520 766 056 euros après ajustement pour pertes probables.\n",
      "- La marge de risque est de 272 163 11 050 euros.\n",
      "- Les provisions techniques totales, incluant la meilleure estimation et la marge de risque, s'élèvent à 9 459 326 777 106 euros.\n",
      "- Les fonds propres de base avant déduction sont de 1 095 746 euros, avec un capital en actions ordinaires de 122 000 euros et des fonds excédentaires de 367 130 euros.\n",
      "- La réserve de réconciliation est de 572 116 euros, et les bénéfices attendus inclus dans les primes futures (EPIFP) pour les activités vie sont de 60 771 euros.\n",
      "- Le capital de solvabilité requis (SCR) est de 675 091 euros, avec un ratio de fonds propres éligibles sur SCR de 162,31%.\n",
      "- Le minimum de capital requis (MCR) est de 198 212 euros, avec un ratio de fonds propres éligibles sur MCR de 535,41%.\n",
      "- Le résultat MCR linéaire est de 198 212 euros, avec un plafond du MCR de 303 791 euros et un plancher du MCR de 168 773 euros.\n",
      "\n",
      "Ces chiffres indiquent que MAIF VIE dispose d'une solide base de fonds propres et d'une capacité de couverture de ses exigences en matière de solvabilité et de capital minimum requis.\n",
      "\n",
      "Résumé:\n",
      "\n",
      "L'organisme en question est spécialisé dans l'assurance et la réassurance non-vie. Il propose une gamme de produits d'assurance qui inclut la responsabilité civile générale, l'assurance crédit et cautionnement, la protection juridique, les frais médicaux, la protection du revenu, l'indemnisation des travailleurs, la responsabilité civile automobile, l'assurance pour d'autres véhicules à moteur, ainsi que l'assurance maritime, aérienne, de transport, incendie et autres dommages aux biens. Chacun de ces produits est également couvert par une réassurance proportionnelle.\n",
      "\n",
      "Le texte mentionne également le rapport sur la solvabilité et la situation financière de MAIF VIE pour l'année 2022, suggérant que cet organisme est concerné par la solvabilité et doit rendre compte de sa situation financière, probablement conformément aux réglementations en vigueur. Toutefois, le texte ne fournit pas de chiffres ou de données financières spécifiques telles que le chiffre d'affaires, les résultats techniques ou financiers, les provisions, les placements, les changements de gouvernance, ou les perspectives et projets futurs de l'organisme.\n"
     ]
    }
   ],
   "source": [
    "print(rapport_n)"
   ]
  },
  {
   "cell_type": "code",
   "execution_count": 18,
   "metadata": {},
   "outputs": [],
   "source": [
    "save_text(rapport_n, 'maif_vie_2022', version=2)"
   ]
  },
  {
   "cell_type": "code",
   "execution_count": 19,
   "metadata": {},
   "outputs": [],
   "source": [
    "rapport_n = load_text('maif_vie_2022', version=2)"
   ]
  },
  {
   "cell_type": "markdown",
   "metadata": {},
   "source": [
    "## Rapport de synthèse"
   ]
  },
  {
   "cell_type": "code",
   "execution_count": 24,
   "metadata": {},
   "outputs": [],
   "source": [
    "# Define prompt\n",
    "prompt_template = \"\"\"Tu es un assistant expert dans le domaine financier et en assurance. Tu sais identifier des potentiels\n",
    "risques dans l'activité d'un organisme. Tu ne peux pas faire des calculs mathématiques complexes sans te servir d'un outil adapté.\n",
    "Tu as à disposition deux rapport SFCR (solvabilité et sécurité financière) sur l'activité d'une entreprise de deux années\n",
    "consécutives 'N' et 'N-1'. Ta tâche consiste à générer une fiche de synthèse comparative entre les deux rapports fournis sous \n",
    "le format suivant:\n",
    "'''\n",
    "1.Présentation [Présente l'organisme, nombre d'assurés, branche d'assurance]\n",
    "2.Activité [Chiffre d'affaire, Variation par rapport à l'année 'N-1', Résultat technique, financier, net après impôts]\n",
    "3.Provisionnement [Les provisions de l'ogranisation]\n",
    "4.Placements [Répartition des placements par classe d'actifs]\n",
    "5.Gouvernance [Changement de gouvernance]\n",
    "6.Perspectives [Les projets futurs, la stratégie]\n",
    "'''\n",
    "\n",
    "#Règles: \n",
    "- Si tu ne trouves pas l'information sur une partie donnée tu peux l'ignorer.\n",
    "- Si dans le rapport de l'année N il y déjà une comparaison avec l'année N-1 tu dois la garder.\n",
    "\n",
    "#Rapport de l'année 'N-1'\n",
    "{rapport_n_1}\n",
    "\n",
    "#Rapport de l'année 'N'\n",
    "{rapport_n}\n",
    "\n",
    "Génération de la fiche synthèse:\n",
    "\"\"\"\n",
    "# we set the prompt to only have the question we ask\n",
    "prompt = PromptTemplate(input_variables=['rapport_n_1','rapport_n'], template=prompt_template)\n",
    "\n",
    "# Define LLM chain\n",
    "llm_chain = LLMChain(llm=llm, prompt=prompt)"
   ]
  },
  {
   "cell_type": "code",
   "execution_count": 25,
   "metadata": {},
   "outputs": [],
   "source": [
    "report = llm_chain.run(rapport_n= rapport_n, rapport_n_1= rapport_n_1)"
   ]
  },
  {
   "cell_type": "code",
   "execution_count": 26,
   "metadata": {},
   "outputs": [
    {
     "name": "stdout",
     "output_type": "stream",
     "text": [
      "1. Présentation\n",
      "MAIF VIE est une filiale de la MAIF, spécialisée dans les produits d'épargne, de prévoyance et d'assurance prêt. Basée à Niort depuis 1984, elle est devenue société à mission en 2021. En 2022, elle comptait 614 500 adhérents, en hausse par rapport aux 587 400 adhérents de 2021.\n",
      "\n",
      "2. Activité\n",
      "En 2022, MAIF VIE a réalisé des encaissements bruts de réassurance de 834 368 milliers d'euros, avec un taux de rémunération net de 2,10 % et un résultat net comptable de 51 214 milliers d'euros, légèrement supérieur au résultat net de 50 332 milliers d'euros en 2021. La masse salariale a augmenté de 2,71 % en 2022.\n",
      "\n",
      "3. Provisionnement\n",
      "Les provisions techniques vie (hors UC et indexés) en 2022 étaient de 9 451 048 euros, avec une meilleure estimation de 9 166 708 euros et une marge de risque de 284 341 euros. Les provisions techniques UC et indexés étaient de 777 106 euros.\n",
      "\n",
      "4. Placements\n",
      "En 2022, les placements de MAIF VIE (hors actifs en représentation de contrats en unités de compte et indexés) s'élevaient à 10 560 376 euros, dont 7 506 141 euros en obligations et 1 999 689 euros dans des organismes de placement collectif.\n",
      "\n",
      "5. Gouvernance\n",
      "Yves Pellicier est devenu président du conseil d'administration en juin 2022, succédant à la direction précédente. La gouvernance a été renforcée en 2018 avec l'introduction de quatre fonctions clés de contrôle réglementaires.\n",
      "\n",
      "6. Perspectives\n",
      "Un plan stratégique pour 2023-2026 est en cours d'élaboration. MAIF VIE s'engage dans la transition énergétique et écologique, visant la neutralité carbone d'ici 2050 et excluant le financement d'entreprises liées au charbon thermique et à d'autres énergies fossiles.\n",
      "\n",
      "Comparaison Année N vs Année N-1:\n",
      "- Légère augmentation du nombre d'adhérents et du résultat net comptable.\n",
      "- Changement dans la présidence du conseil d'administration.\n",
      "- Maintien d'une politique de non-versement de dividendes.\n",
      "- Augmentation des fonds propres comptables en 2022.\n",
      "- Diminution des fonds propres de base niveau 1 et augmentation du SCR, tout en maintenant des ratios de couverture satisfaisants.\n",
      "- Engagement accru envers les investissements socialement responsables et la durabilité.\n"
     ]
    }
   ],
   "source": [
    "print(report)"
   ]
  },
  {
   "cell_type": "code",
   "execution_count": 27,
   "metadata": {},
   "outputs": [],
   "source": [
    "save_text(report, 'report', version=2)"
   ]
  },
  {
   "cell_type": "markdown",
   "metadata": {},
   "source": [
    "## LLMMath as agent (abandonné)"
   ]
  },
  {
   "cell_type": "code",
   "execution_count": 176,
   "metadata": {},
   "outputs": [
    {
     "name": "stderr",
     "output_type": "stream",
     "text": [
      "/home/issa/miniconda3/envs/LangChain/lib/python3.10/site-packages/langchain/chains/llm_math/base.py:57: UserWarning: Directly instantiating an LLMMathChain with an llm is deprecated. Please instantiate with llm_chain argument or using the from_llm class method.\n",
      "  warnings.warn(\n"
     ]
    }
   ],
   "source": [
    "from langchain.chains import LLMMathChain\n",
    "llm_math = LLMMathChain(llm=llm, verbose=True)\n",
    "\n",
    "# llm_math.run(\"What is 13 raised to the .3432 power?\")"
   ]
  },
  {
   "cell_type": "code",
   "execution_count": 177,
   "metadata": {},
   "outputs": [],
   "source": [
    "from langchain.agents import Tool\n",
    "\n",
    "tools = [\n",
    "    Tool(\n",
    "        name='outil de Mathématiques',\n",
    "        func=llm_math.run,\n",
    "        description=(\n",
    "            'utilise cet outil lorsque tu veux faire un calcul mathématique'\n",
    "        )\n",
    "    )\n",
    "]"
   ]
  },
  {
   "cell_type": "code",
   "execution_count": 178,
   "metadata": {},
   "outputs": [],
   "source": [
    "from langchain.chains.conversation.memory import ConversationBufferWindowMemory\n",
    "# conversational memory\n",
    "conversational_memory = ConversationBufferWindowMemory(\n",
    "    memory_key='chat_history',\n",
    "    k=5,\n",
    "    return_messages=True\n",
    ")"
   ]
  },
  {
   "cell_type": "code",
   "execution_count": 179,
   "metadata": {},
   "outputs": [],
   "source": [
    "from langchain.agents import initialize_agent\n",
    "\n",
    "agent = initialize_agent(\n",
    "    agent='chat-conversational-react-description',\n",
    "    tools=tools,\n",
    "    llm=llm,\n",
    "    verbose=True,\n",
    "    max_iterations=3,\n",
    "    # early_stopping_method='generate',\n",
    "    memory=conversational_memory\n",
    ")"
   ]
  },
  {
   "cell_type": "code",
   "execution_count": 180,
   "metadata": {},
   "outputs": [
    {
     "data": {
      "text/plain": [
       "StringPromptValue(text='Tu es un assistant expert dans le domaine financier et en assurance. Tu sais identifier des potentiels\\nrisques dans l\\'activité d\\'un organisme. Tu ne peux pas faire des calculs mathématiques complexes sans te servir d\\'un outil adapté.\\nTu as à disposition deux rapport SFCR (solvabilité et sécurité financière) sur l\\'activité d\\'une entreprise de deux années\\nconsécutives \\'N\\' et \\'N-1\\'. Ta tâche consiste à générer une fiche de synthèse comparative entre les deux rapports fournis sous \\nle format suivant:\\n\\'\\'\\'\\n1.Présentation [Présente l\\'organisme, nombre d\\'assurés, branche d\\'assurance]\\n2.Activité [Chiffre d\\'affaire, Variation par rapport à l\\'année \\'N-1\\', Résultat technique, financier, net après impôts]\\n3.Placements [Répartition des placements par classe d\\'actifs]\\n4.Gouvernance [Changement de gouvernance]\\n5.Perspectives [Les projets futurs, la stratégie]\\n\\'\\'\\'\\n\\n#Règles: \\n- Si tu ne trouves pas l\\'information sur une partie donnée tu peux l\\'ignorer.\\n- Si dans le rapport de l\\'année N il y déjà une comparaison avec l\\'année N-1 tu dois la garder.\\n\\n#Rapport de l\\'année \\'N-1\\'\\nMAIF VIE est une filiale à 100% de la MAIF, créée en 1984 et devenue société à mission en 2021. Elle opère sous la directive Solvabilité 2 de l\\'UE. En 2021, ses encaissements bruts de réassurance ont augmenté de 10%, pour un total de 810 412 milliers d\\'euros, et un taux de rémunération net de 1,30%. La provision pour participation aux bénéfices était de 6,04% des provisions mathématiques en euros, et le résultat net comptable s\\'élevait à 50 332 milliers d\\'euros.\\n\\nLa société est dirigée par un conseil d\\'administration distinct du directeur général et emploie 212 équivalents temps plein, avec plus de 587 400 adhérents. Elle ne distribue pas de dividendes et a vu une augmentation de 5,2% de ses adhérents en 2021. La collecte nette en épargne a augmenté de 32,2%, et les provisions techniques brutes de réassurance ont crû de 4,5% par rapport à 2020.\\n\\nMAIF VIE suit le plan stratégique \"Engagés pour demain\" 2019-2022 du groupe MAIF et a enregistré une hausse de 5,1% des produits nets des placements en 2021, pour un total de 290 939 milliers d\\'euros. La société adopte une approche systémique de gestion des risques conforme à la norme ISO31000 et à Solvabilité 2, et SMACL ASSURANCES SA rejoindra sa gouvernance en 2022.\\n\\nSpécialisée dans les garanties en cas de décès, la prévoyance individuelle temporaire et les assurances pour prêts, MAIF VIE utilise la réassurance pour limiter les risques techniques. Elle investit selon le principe de la personne prudente et a une exposition modérée aux marchés actions. Le groupe MAIF investit 89% de ses actifs financiers dans des supports ISR et exclut les entreprises de l\\'industrie pétrolière.\\n\\nAu 31 décembre 2021, le bilan de MAIF VIE affichait un total de l\\'actif de 13 229 164 milliers d\\'euros, avec des provisions techniques vie de 11 124 548 milliers d\\'euros. Les provisions techniques vie brutes de réassurance étaient de 11 707 245 milliers d\\'euros, avec une marge de risque de 128 520 milliers d\\'euros. Les fonds propres de base de niveau 1 étaient de 1 187 963 milliers d\\'euros, et la société avait un SCR couvert à 248% et un MCR à 536%.\\n\\nLe rapport sur la solvabilité et la situation financière de 2021 indique une diminution de 4% des provisions techniques, un SCR net pour le risque opérationnel de 52 045 milliers d\\'euros, et une hausse de 10,8% du MCR à 221 822 milliers d\\'euros. Les investissements s\\'élevaient à 12 263 743 milliers d\\'euros, avec un total d\\'actif de 13 229 164 milliers d\\'euros. MAIF VIE maintient un niveau adéquat de provisions techniques et de fonds propres pour respecter les exigences réglementaires de solvabilité.\\n\\n#Rapport de l\\'année \\'N\\'\\nMAIF VIE est une société anonyme d\\'assurance vie créée en 1984, majoritairement possédée par la MAIF, et devenue société à mission en 2021. Située à Niort, elle a réalisé en 2022 des encaissements bruts de réassurance de 834 368 milliers d\\'euros et un résultat net comptable de 51 214 milliers d\\'euros. Le conseil d\\'administration est présidé par Yves Pellicier, avec Hélène N’Diaye et Marina Sellari en tant que directrice générale et directrice générale déléguée. La société compte plus de 614 500 adhérents et a connu une croissance de 4,6 % en 2022.\\n\\nElle pratique une gestion des risques stricte, valorise ses actifs selon Solvabilité 2, et s\\'engage pour la durabilité et l\\'impact social et environnemental. MAIF VIE a un bilan prudentiel solide avec un total d\\'actifs de 11 487 276 milliers d\\'euros et des placements de 10 560 376 milliers d\\'euros. Les provisions techniques vie brutes de réassurance sont prédominantes dans les contrats avec participation aux bénéfices, et la marge de risque est de 295 391 milliers d\\'euros. Les ratios de couverture du SCR et du MCR sont de 162,3% et 535,4%, indiquant une solvabilité réglementaire satisfaisante.\\n\\nLa compagnie respecte les normes de solvabilité, utilise des fonds propres de haute qualité pour couvrir le SCR et le MCR, et vise la neutralité carbone d\\'ici 2050. Les primes émises nettes pour l\\'assurance vie sont de 626 919 euros, et les charges nettes des sinistres sont de 543 948 euros. MAIF VIE n\\'a pas publié l\\'état S.05.02.01 et le rapport sur la solvabilité et la situation financière de 2022 révèle des provisions techniques brutes de 9 187 163 766 056 euros, avec une meilleure estimation nette de 9 875 918 euros.\\n\\nLes fonds propres de base sont de 1 095 746 euros, avec un SCR de 675 091 euros et un MCR de 198 212 euros. Le ratio de couverture est de 162,31% pour le SCR et de 535,41% pour le MCR. Les risques comprennent le risque de marché, le risque de défaut de contrepartie, et le risque de souscription en vie. Le rapport ne mentionne pas de changements de gouvernance ou de projets futurs, mais détaille les activités d\\'assurance et de réassurance non-vie.\\n\\nGénération de la fiche synthèse:\\n')"
      ]
     },
     "execution_count": 180,
     "metadata": {},
     "output_type": "execute_result"
    }
   ],
   "source": [
    "prompt.format_prompt(rapport_n= rapport_n, rapport_n_1= rapport_n_1)"
   ]
  },
  {
   "cell_type": "code",
   "execution_count": 181,
   "metadata": {},
   "outputs": [
    {
     "name": "stdout",
     "output_type": "stream",
     "text": [
      "\n",
      "\n",
      "\u001b[1m> Entering new AgentExecutor chain...\u001b[0m\n",
      "\u001b[32;1m\u001b[1;3m```json\n",
      "{\n",
      "    \"action\": \"Final Answer\",\n",
      "    \"action_input\": \"1.Présentation [MAIF VIE, société anonyme d'assurance vie créée en 1984, filiale à 100% de la MAIF, devenue société à mission en 2021, située à Niort. Nombre d'assurés: plus de 614 500 en 2022, croissance de 4,6 %. Branche d'assurance: assurance vie, réassurance, garanties en cas de décès, prévoyance individuelle temporaire, assurances pour prêts.]\\n2.Activité [Chiffre d'affaire: 834 368 milliers d'euros en 2022, augmentation par rapport à l'année 'N-1': 2,96% (de 810 412 milliers d'euros en 2021). Résultat net après impôts: 51 214 milliers d'euros en 2022, augmentation par rapport à l'année 'N-1': 1,75% (de 50 332 milliers d'euros en 2021).]\\n3.Placements [Répartition des placements par classe d'actifs non spécifiée, mais la société investit selon le principe de la personne prudente avec une exposition modérée aux marchés actions et 89% des actifs financiers dans des supports ISR en 2021.]\\n4.Gouvernance [Changement de gouvernance: Le conseil d'administration est présidé par Yves Pellicier, avec Hélène N’Diaye et Marina Sellari en tant que directrice générale et directrice générale déléguée en 2022. SMACL ASSURANCES SA rejoindra la gouvernance en 2022.]\\n5.Perspectives [Les projets futurs et la stratégie ne sont pas mentionnés dans le rapport de l'année 'N'. MAIF VIE suit le plan stratégique \\\"Engagés pour demain\\\" 2019-2022 du groupe MAIF en 2021.]\"\n",
      "}\n",
      "```\u001b[0m\n",
      "\n",
      "\u001b[1m> Finished chain.\u001b[0m\n"
     ]
    }
   ],
   "source": [
    "rapport = agent(prompt.format_prompt(rapport_n= rapport_n, rapport_n_1= rapport_n_1).text)"
   ]
  },
  {
   "cell_type": "code",
   "execution_count": 174,
   "metadata": {},
   "outputs": [
    {
     "name": "stdout",
     "output_type": "stream",
     "text": [
      "1.Présentation [MAIF VIE, filiale à 100% de la MAIF, créée en 1984, devenue société à mission en 2021, opère sous la directive Solvabilité 2 de l'UE. Nombre d'assurés en N-1: plus de 587 400, en N: plus de 614 500. Branche d'assurance: garanties en cas de décès, prévoyance individuelle temporaire, assurances pour prêts.]\n"
     ]
    }
   ],
   "source": [
    "print(rapport['output'])"
   ]
  },
  {
   "cell_type": "markdown",
   "metadata": {},
   "source": [
    "## Affiner les résumés (abandonné)"
   ]
  },
  {
   "cell_type": "code",
   "execution_count": null,
   "metadata": {},
   "outputs": [],
   "source": [
    "combine_prompt = \"\"\"\n",
    "Tu es un assistant expert dans le domaine financier et en assurance.\n",
    "\n",
    "#Règles: \n",
    "- Tu ne dois pas modifier les valeurs des données financières (EXP: Chiffres d'affaires, pourcentages, taux, montants, ratio de solvabilité, ratio de couverture du SCR etc)\n",
    "\n",
    "Ecris moi un résumé du texte suivant avec un titre pour chaque partie du texte:\n",
    "```{text}```\n",
    "Résumé:\n",
    "\"\"\"\n",
    "combine_prompt_template = PromptTemplate(template=combine_prompt, input_variables=[\"text\"])"
   ]
  },
  {
   "cell_type": "code",
   "execution_count": 83,
   "metadata": {},
   "outputs": [],
   "source": [
    "# Define prompt\n",
    "prompt_template_refine = \"\"\"Tu es un assistant expert dans le domaine financier et en assurance. \n",
    "Tu sais bien faire enrichir un résumé à partir du document initial.\n",
    "Tu as à disposition un résumé et le document initial à partir duquel le résumé a été généré.\n",
    "Ta tâche consiste à faire enrichir le résumé à disposition avec des informations qui sont manquantes dans le résumé et présentes\n",
    "dans le document.\n",
    "\n",
    "Ces informations sont nécessairement des chiffres, des montants, des dates, et pourraient être autour de:\n",
    "-Présentation de l'organisme.\n",
    "-Activité de l'organisme (Chiffre d'affaire, Variation par rapport à l'année 'N-1', pourcentages, montants, nombres,\n",
    " Résultat technique, Résultat financier, Résultat net après impôts)\n",
    "-Répartition des placements par classe d'actifs.\n",
    "-Changement de la gouvernance.\n",
    "-Perspectives et projets futurs.\n",
    "\n",
    "\n",
    "#Règles: \n",
    "- Tu ne dois pas supprimer les chiffres dans l'ancien résumé ni les modifier.\n",
    "- Tu dois garder la même structure du résumé donné.\n",
    "\n",
    "#Document initial\n",
    "{doc_init}\n",
    "\n",
    "#Résumé\n",
    "{resume_}\n",
    "\n",
    "Génération du nouveau résumé:\n",
    "\"\"\"\n",
    "# we set the prompt to only have the question we ask\n",
    "prompt_refine = PromptTemplate(input_variables=['doc_init','resume_'], template=prompt_template_refine)\n",
    "\n",
    "# Define LLM chain\n",
    "llm_chain_refine = LLMChain(llm=llm, prompt=prompt_refine)\n",
    "\n",
    "# res = llm_chain.run(\n",
    "#     rapport_n_1=rapport_n_1,\n",
    "#     rapport_n=rapport_n\n",
    "#     )"
   ]
  },
  {
   "cell_type": "code",
   "execution_count": 84,
   "metadata": {},
   "outputs": [],
   "source": [
    "def refine_resume(num_iter: int, resume_, doc_init):\n",
    "    final_resume = resume_\n",
    "    for _ in range(num_iter):\n",
    "        final_resume = llm_chain_refine.run(doc_init=doc_init, resume_=final_resume)\n",
    "    return final_resume"
   ]
  },
  {
   "cell_type": "code",
   "execution_count": 85,
   "metadata": {},
   "outputs": [],
   "source": [
    "doc_n_1 = load_and_preprocess(\"data/rapport-solvabilite-2021-maif-vie.pdf\")\n",
    "rapport_n_1_ = refine_resume(1, rapport_n_1, doc_n_1)"
   ]
  },
  {
   "cell_type": "code",
   "execution_count": 88,
   "metadata": {},
   "outputs": [
    {
     "name": "stdout",
     "output_type": "stream",
     "text": [
      "MAIF VIE a démontré une bonne performance financière en 2021 avec une croissance de 10% de ses encaissements bruts de réassurance et un bénéfice net de 50 332 milliers d'euros. La société a maintenu une structure de gouvernance solide, avec une séparation claire des rôles de président et de directeur général, et un système de gestion des risques efficace qui lui a permis de ne pas subir d'impact majeur du conflit russo-ukrainien.\n",
      "\n",
      "La société a respecté les normes Solvabilité 2 avec des ratios de couverture solides, reflétant sa résilience et sa solidité financière. MAIF VIE a également mis en place des politiques et des procédures strictes pour la gestion des fonds propres, assurant ainsi la pérennité de l'entreprise.\n",
      "\n",
      "Le profil de MAIF VIE est marqué par une large base d'adhérents et une gamme variée de produits d'assurance vie, y compris l'épargne et la prévoyance. La société a également une approche proactive de la gestion des risques, avec des comités spécialisés et des fonctions clés dirigées par des experts certifiés.\n",
      "\n",
      "En termes de conformité, MAIF VIE applique des critères stricts de compétence et d'honorabilité pour son personnel clé et utilise un système de contrôle interne et un audit interne indépendant pour évaluer la gouvernance et la gestion des risques.\n",
      "\n",
      "MAIF VIE gère activement les risques financiers et de marché, en surveillant l'impact des taux d'intérêt et en s'engageant pour une gestion d'actifs responsable et la transition énergétique. La société valorise ses actifs et passifs conformément à Solvabilité 2 et utilise des outils de modélisation économique et des hypothèses financières et comportementales pour la gestion de la solvabilité.\n",
      "\n",
      "Enfin, MAIF VIE détient des fonds propres excédant les exigences de capital et a calculé le SCR et le MCR pour 2021 avec des ratios de couverture démontrant la conformité aux exigences de solvabilité. Le rapport financier met en évidence la solidité financière de l'entreprise et sa conformité avec les normes de solvabilité.\n"
     ]
    }
   ],
   "source": [
    "print(rapport_n_1_)"
   ]
  }
 ],
 "metadata": {
  "kernelspec": {
   "display_name": "LangChain",
   "language": "python",
   "name": "python3"
  },
  "language_info": {
   "codemirror_mode": {
    "name": "ipython",
    "version": 3
   },
   "file_extension": ".py",
   "mimetype": "text/x-python",
   "name": "python",
   "nbconvert_exporter": "python",
   "pygments_lexer": "ipython3",
   "version": "3.10.9"
  }
 },
 "nbformat": 4,
 "nbformat_minor": 2
}
