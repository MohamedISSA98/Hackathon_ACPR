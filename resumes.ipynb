{
 "cells": [
  {
   "cell_type": "code",
   "execution_count": 1,
   "metadata": {},
   "outputs": [],
   "source": [
    "import os\n",
    "import requests\n",
    "import base64\n",
    "# os.environ['OPENAI_API_KEY'] = "
   ]
  },
  {
   "cell_type": "code",
   "execution_count": 2,
   "metadata": {},
   "outputs": [],
   "source": [
    "os.environ['OPENAI_API_KEY'] = \n",
    "os.environ['OPENAI_API_TYPE'] = 'azure'\n",
    "os.environ['OPENAI_API_VERSION'] = '2023-03-15-preview'\n",
    "os.environ['OPENAI_API_BASE'] = 'https://francecentral-openai.openai.azure.com/'"
   ]
  },
  {
   "cell_type": "code",
   "execution_count": 12,
   "metadata": {},
   "outputs": [],
   "source": [
    "from langchain.chains.combine_documents.stuff import StuffDocumentsChain\n",
    "from langchain.chains.llm import LLMChain\n",
    "from langchain.prompts import PromptTemplate\n",
    "from langchain.chat_models import AzureChatOpenAI\n",
    "from langchain.chains.summarize import load_summarize_chain\n",
    "from langchain.text_splitter import RecursiveCharacterTextSplitter\n",
    "from langchain_community.document_loaders import PyPDFLoader\n",
    "import re\n",
    "\n"
   ]
  },
  {
   "cell_type": "code",
   "execution_count": 53,
   "metadata": {},
   "outputs": [],
   "source": [
    "model_name = 'gpt-35-turbo' #gpt-4"
   ]
  },
  {
   "cell_type": "code",
   "execution_count": 54,
   "metadata": {},
   "outputs": [],
   "source": [
    "# initialize tokenizer\n",
    "import tiktoken\n",
    "enc = tiktoken.encoding_for_model(model_name)"
   ]
  },
  {
   "cell_type": "code",
   "execution_count": 55,
   "metadata": {},
   "outputs": [
    {
     "name": "stderr",
     "output_type": "stream",
     "text": [
      "/home/issa/miniconda3/envs/LangChain/lib/python3.10/site-packages/langchain_community/chat_models/azure_openai.py:167: UserWarning: As of openai>=1.0.0, Azure endpoints should be specified via the `azure_endpoint` param not `openai_api_base` (or alias `base_url`). Updating `openai_api_base` from https://francecentral-openai.openai.azure.com/ to https://francecentral-openai.openai.azure.com/openai.\n",
      "  warnings.warn(\n",
      "/home/issa/miniconda3/envs/LangChain/lib/python3.10/site-packages/langchain_community/chat_models/azure_openai.py:174: UserWarning: As of openai>=1.0.0, if `deployment_name` (or alias `azure_deployment`) is specified then `openai_api_base` (or alias `base_url`) should not be. Instead use `deployment_name` (or alias `azure_deployment`) and `azure_endpoint`.\n",
      "  warnings.warn(\n",
      "/home/issa/miniconda3/envs/LangChain/lib/python3.10/site-packages/langchain_community/chat_models/azure_openai.py:182: UserWarning: As of openai>=1.0.0, if `openai_api_base` (or alias `base_url`) is specified it is expected to be of the form https://example-resource.azure.openai.com/openai/deployments/example-deployment. Updating https://francecentral-openai.openai.azure.com/ to https://francecentral-openai.openai.azure.com/openai.\n",
      "  warnings.warn(\n"
     ]
    }
   ],
   "source": [
    "llm = AzureChatOpenAI(\n",
    "    deployment_name=model_name,\n",
    "    model_name=model_name,\n",
    "    temperature=0,\n",
    ")"
   ]
  },
  {
   "cell_type": "code",
   "execution_count": 57,
   "metadata": {},
   "outputs": [],
   "source": [
    "# loader = PyPDFLoader(\"data/rapport-solvabilite-2021-maif-vie.pdf\")\n",
    "# pages = loader.load()#load_and_split()"
   ]
  },
  {
   "cell_type": "code",
   "execution_count": 58,
   "metadata": {},
   "outputs": [],
   "source": [
    "# # Combine the pages, and replace the tabs with spaces\n",
    "# text = \"\"\n",
    "\n",
    "# for page in pages:\n",
    "#     text += page.page_content"
   ]
  },
  {
   "cell_type": "code",
   "execution_count": 59,
   "metadata": {},
   "outputs": [],
   "source": [
    "def transform_func(inputs: dict) -> dict:\n",
    "    text = inputs[\"text\"]\n",
    "    \n",
    "    # replace multiple new lines and multiple spaces with a single one\n",
    "    text = re.sub(r'(\\r\\n|\\r|\\n){2,}', r'\\n', text)\n",
    "    text = re.sub(r'[ \\t]+', ' ', text)\n",
    "\n",
    "    return {\"output_text\": text}"
   ]
  },
  {
   "cell_type": "code",
   "execution_count": 60,
   "metadata": {},
   "outputs": [],
   "source": [
    "text_refined = transform_func({'text': text})"
   ]
  },
  {
   "cell_type": "markdown",
   "metadata": {},
   "source": [
    "## Map Reduce"
   ]
  },
  {
   "cell_type": "code",
   "execution_count": 10,
   "metadata": {},
   "outputs": [],
   "source": [
    "# text_splitter = RecursiveCharacterTextSplitter(chunk_size=10000, chunk_overlap=500)\n",
    "\n",
    "# docs = text_splitter.create_documents([text_refined['output_text']])"
   ]
  },
  {
   "cell_type": "code",
   "execution_count": 61,
   "metadata": {},
   "outputs": [],
   "source": [
    "map_prompt = \"\"\"\n",
    "Tu es un assistant expert dans le domaine financier et en assurance.\n",
    "\n",
    "#Règles: \n",
    "- Tu ne dois pas modifier les valeurs des données financières (EXP: Chiffres d'affaires, pourcentages, taux, montants, etc)\n",
    "\n",
    "Ecris moi un résumé détaillé pour le texte suivant:\n",
    "\"{text}\"\n",
    "Résumé:\n",
    "\"\"\"\n",
    "map_prompt_template = PromptTemplate(template=map_prompt, input_variables=[\"text\"])"
   ]
  },
  {
   "cell_type": "code",
   "execution_count": 62,
   "metadata": {},
   "outputs": [],
   "source": [
    "combine_prompt = \"\"\"\n",
    "Tu es un assistant expert dans le domaine financier et en assurance.\n",
    "\n",
    "#Règles: \n",
    "- Tu ne dois pas modifier les valeurs des données financières (EXP: Chiffres d'affaires, pourcentages, taux, etc)\n",
    "\n",
    "Ecris moi un résumé du texte suivant avec un titre pour chaque partie du texte:\n",
    "```{text}```\n",
    "Résumé:\n",
    "\"\"\"\n",
    "combine_prompt_template = PromptTemplate(template=combine_prompt, input_variables=[\"text\"])"
   ]
  },
  {
   "cell_type": "code",
   "execution_count": 63,
   "metadata": {},
   "outputs": [],
   "source": [
    "summary_chain_map_reduce = load_summarize_chain(llm=llm,\n",
    "                                     chain_type='map_reduce',\n",
    "                                     map_prompt=map_prompt_template,\n",
    "                                     combine_prompt=combine_prompt_template,\n",
    "#                                      verbose=True\n",
    "                                    )"
   ]
  },
  {
   "cell_type": "code",
   "execution_count": 64,
   "metadata": {},
   "outputs": [],
   "source": [
    "# text = text_refined['output_text']"
   ]
  },
  {
   "cell_type": "code",
   "execution_count": 66,
   "metadata": {},
   "outputs": [],
   "source": [
    "def load_and_preprocess(path: str) -> str:\n",
    "    loader = PyPDFLoader(path)\n",
    "    pages = loader.load()\n",
    "    # Combine the pages, and replace the tabs with spaces\n",
    "    text = \"\"\n",
    "\n",
    "    for page in pages:\n",
    "        text += page.page_content\n",
    "    \n",
    "    text_refined = transform_func({'text': text})\n",
    "    return text_refined['output_text']"
   ]
  },
  {
   "cell_type": "code",
   "execution_count": 76,
   "metadata": {},
   "outputs": [],
   "source": [
    "def summarize_map_reduce(summary_chain, text:str) -> str:\n",
    "    #split text into chunks\n",
    "    text_splitter = RecursiveCharacterTextSplitter(chunk_size=10000, chunk_overlap=500)\n",
    "    docs = text_splitter.create_documents([text])\n",
    "\n",
    "    #compute number of tokens before the summarisation\n",
    "    length_before = len(enc.encode(text=text))\n",
    "    print (f\"length of text before summarization: {length_before} tokens\")\n",
    "\n",
    "    #Generate the summary\n",
    "    output = summary_chain.run(docs)\n",
    "\n",
    "    #compute number of tokens after the summarisation\n",
    "    length_after = len(enc.encode(text=output))\n",
    "    print (f\"length of text after summarization: {length_after} tokens\")\n",
    "\n",
    "    return output\n"
   ]
  },
  {
   "cell_type": "code",
   "execution_count": 77,
   "metadata": {},
   "outputs": [
    {
     "name": "stdout",
     "output_type": "stream",
     "text": [
      "length of text before summarization: 76613 tokens\n",
      "length of text after summarization: 1742 tokens\n"
     ]
    }
   ],
   "source": [
    "text = load_and_preprocess(\"data/rapport-solvabilite-2021-maif-vie.pdf\")\n",
    "rapport_n_1 = summarize_map_reduce(summary_chain_map_reduce, text)"
   ]
  },
  {
   "cell_type": "code",
   "execution_count": 79,
   "metadata": {},
   "outputs": [],
   "source": [
    "# print(rapport_n_1)"
   ]
  },
  {
   "cell_type": "code",
   "execution_count": 17,
   "metadata": {},
   "outputs": [],
   "source": [
    "text = load_and_preprocess(\"data/rapport-solvabilite-2022-maif-vie.pdf\")\n",
    "rapport_n = summarize_map_reduce(summary_chain_map_reduce, text)"
   ]
  },
  {
   "cell_type": "markdown",
   "metadata": {},
   "source": [
    "## Résumé direct"
   ]
  },
  {
   "cell_type": "code",
   "execution_count": 66,
   "metadata": {},
   "outputs": [
    {
     "data": {
      "text/plain": [
       "76998"
      ]
     },
     "execution_count": 66,
     "metadata": {},
     "output_type": "execute_result"
    }
   ],
   "source": [
    "# len(enc.encode(prompt_template.format(text=text_refined['output_text'])))"
   ]
  },
  {
   "cell_type": "code",
   "execution_count": 80,
   "metadata": {},
   "outputs": [],
   "source": [
    "# Define prompt\n",
    "prompt_template = \"\"\"Tu es un assistant expert dans le domaine financier et en assurance.\n",
    "\n",
    "#Règles: \n",
    "- Tu ne dois pas modifier les valeurs des données financières (EXP: Chiffres d'affaires, pourcentages, taux, montants, etc)\n",
    "\n",
    "Ecris moi un résumé détaillé du texte suivant avec un titre pour chaque partie:\n",
    "{text}\n",
    "Résumé:\n",
    "\"\"\"\n",
    "# we set the prompt to only have the question we ask\n",
    "prompt = PromptTemplate(input_variables=['text'], template=prompt_template)\n",
    "\n",
    "# Define LLM chain\n",
    "llm_chain = LLMChain(llm=llm, prompt=prompt)\n",
    "\n",
    "res = llm_chain.run(text=text_refined['output_text'])"
   ]
  },
  {
   "cell_type": "markdown",
   "metadata": {},
   "source": [
    "## Comparaison"
   ]
  },
  {
   "cell_type": "code",
   "execution_count": 39,
   "metadata": {},
   "outputs": [],
   "source": [
    "# Define prompt\n",
    "prompt_template = \"\"\"Tu es un assistant expert dans le domaine financier et en assurance. Tu sais identifier des potentiels\n",
    "risques dans l'activité d'un organisme. Tu ne peux pas faire des calculs mathématiques complexes sans te servir d'un outil adapté.\n",
    "Tu as à disposition deux rapport SFCR (solvabilité et sécurité financière) sur l'activité d'une entreprise de deux années\n",
    "consécutives 'N' et 'N-1'. Ta tâche consiste à générer une fiche de synthèse comparative entre les deux rapports fournis sous \n",
    "le format suivant:\n",
    "'''\n",
    "1.Présentation []\n",
    "2.Activité\n",
    "3.Placements\n",
    "4.Gouvernance\n",
    "5.Perspectives\n",
    "'''\n",
    "\n",
    "#Règles: \n",
    "- Si tu ne trouves pas l'information sur une partie donnée tu peux l'ignorer.\n",
    "- Si dans le rapport de l'année N il y déjà une comparaison avec l'année N-1 tu dois la garder.\n",
    "\n",
    "#Rapport de l'année 'N-1'\n",
    "{rapport_n_1}\n",
    "\n",
    "#Rapport de l'année 'N'\n",
    "{rapport_n}\n",
    "\n",
    "Génération de la fiche synthèse:\n",
    "1.Présentation\n",
    "\"\"\"\n",
    "# we set the prompt to only have the question we ask\n",
    "prompt = PromptTemplate(input_variables=['rapport_n_1','rapport_n'], template=prompt_template)\n",
    "\n",
    "# Define LLM chain\n",
    "llm_chain = LLMChain(llm=llm, prompt=prompt)\n",
    "\n",
    "# res = llm_chain.run(\n",
    "#     rapport_n_1=rapport_n_1,\n",
    "#     rapport_n=rapport_n\n",
    "#     )"
   ]
  },
  {
   "cell_type": "code",
   "execution_count": 23,
   "metadata": {},
   "outputs": [
    {
     "name": "stderr",
     "output_type": "stream",
     "text": [
      "/home/issa/miniconda3/envs/LangChain/lib/python3.10/site-packages/langchain/chains/llm_math/base.py:57: UserWarning: Directly instantiating an LLMMathChain with an llm is deprecated. Please instantiate with llm_chain argument or using the from_llm class method.\n",
      "  warnings.warn(\n"
     ]
    }
   ],
   "source": [
    "from langchain.chains import LLMMathChain\n",
    "llm_math = LLMMathChain(llm=llm, verbose=True)\n",
    "\n",
    "# llm_math.run(\"What is 13 raised to the .3432 power?\")"
   ]
  },
  {
   "cell_type": "code",
   "execution_count": 24,
   "metadata": {},
   "outputs": [],
   "source": [
    "from langchain.agents import Tool\n",
    "\n",
    "tools = [\n",
    "    Tool(\n",
    "        name='outil de Mathématiques',\n",
    "        func=llm_math.run,\n",
    "        description=(\n",
    "            'utilise cet outil lorsque tu veux faire un calcul mathématique'\n",
    "        )\n",
    "    )\n",
    "]"
   ]
  },
  {
   "cell_type": "code",
   "execution_count": 50,
   "metadata": {},
   "outputs": [],
   "source": [
    "from langchain.chains.conversation.memory import ConversationBufferWindowMemory\n",
    "# conversational memory\n",
    "conversational_memory = ConversationBufferWindowMemory(\n",
    "    memory_key='chat_history',\n",
    "    k=5,\n",
    "    return_messages=True\n",
    ")"
   ]
  },
  {
   "cell_type": "code",
   "execution_count": 51,
   "metadata": {},
   "outputs": [],
   "source": [
    "from langchain.agents import initialize_agent\n",
    "\n",
    "agent = initialize_agent(\n",
    "    agent='chat-conversational-react-description',\n",
    "    tools=tools,\n",
    "    llm=llm,\n",
    "    verbose=True,\n",
    "    max_iterations=3,\n",
    "    early_stopping_method='generate',\n",
    "    memory=conversational_memory\n",
    ")"
   ]
  },
  {
   "cell_type": "code",
   "execution_count": 48,
   "metadata": {},
   "outputs": [
    {
     "data": {
      "text/plain": [
       "StringPromptValue(text=\"Tu es un assistant expert dans le domaine financier et en assurance. Tu sais identifier des potentiels\\nrisques dans l'activité d'un organisme. Tu ne peux pas faire des calculs mathématiques complexes sans te servir d'un outil adapté.\\nTu as à disposition deux rapport SFCR (solvabilité et sécurité financière) sur l'activité d'une entreprise de deux années\\nconsécutives 'N' et 'N-1'. Ta tâche consiste à générer une fiche de synthèse comparative entre les deux rapports fournis sous \\nle format suivant:\\n'''\\n1.Présentation []\\n2.Activité\\n3.Placements\\n4.Gouvernance\\n5.Perspectives\\n'''\\n\\n#Règles: \\n- Si tu ne trouves pas l'information sur une partie donnée tu peux l'ignorer.\\n- Si dans le rapport de l'année N il y déjà une comparaison avec l'année N-1 tu dois la garder.\\n\\n#Rapport de l'année 'N-1'\\nGestion des risques financiers et opérationnels\\nLe rapport met en lumière la gestion des risques financiers et opérationnels de MAIF VIE pour l'année 2021, abordant la constitution des comptes de trésorerie, la réalisation des comptes techniques annuels, l'évaluation du risque de défaut de contrepartie et le risque de liquidité. Il détaille également les risques d'illiquidité et de trésorerie, ainsi que les processus de gestion de la liquidité. En ce qui concerne le risque opérationnel, le rapport met en évidence les principaux risques opérationnels de MAIF VIE, tels que le risque de sous-traitances importantes ou critiques, le risque de non-continuité ou indisponibilité des données ou applicatifs, et le risque de non-conformité aux obligations réglementaires.\\n\\nRisques émergents et mesures d'atténuation\\nLe rapport souligne les risques émergents significatifs tels que le risque de réputation et gestion de crise, le risque d'évolution économique ou juridique, et le risque de durabilité, notamment en ce qui concerne la transition énergétique et écologique. Il met en avant les mesures prises par MAIF VIE pour atténuer ces risques, notamment en ce qui concerne la gestion des modèles, la réputation, les évolutions économiques et juridiques, et la transition énergétique et écologique.\\n\\nEngagement en faveur de la transition énergétique et écologique\\nLe groupe MAIF a pris des mesures pour exclure les entreprises de l'industrie pétrolière ou produisant de l'électricité à partir de pétrole pour plus de 5% de leur chiffre d'affaires de ses investissements. En 2021, le groupe s'est engagé à investir au moins 7% de ses actifs financiers en faveur de la transition énergétique et écologique. Il cherche à contribuer à une transition climatique inclusive, créatrice d'emplois durables, attentive aux inégalités sociales et au développement des territoires.\\n\\nProvisions techniques, actifs et passifs\\nLe rapport présente en détail les différentes provisions techniques, passifs et actifs de l'entreprise. Il met en évidence les différences de valorisation entre les normes Solvabilité 2 et les normes comptables françaises, notamment en ce qui concerne les actifs incorporels, les placements, les participations et les obligations.\\n\\nOutils de modélisation et engagements contractuels\\nLe rapport se concentre sur les outils de modélisation utilisés, tels que l'outil édité par Moody's Analytics pour générer les trajectoires économiques en univers risque neutre. Il met également l'accent sur les engagements contractuels pour l'année suivante, 2022, en détaillant les charges de gestion, les paramètres, la tarification, les commissions et frais de distribution, ainsi que les impôts et prélèvements sociaux.\\n\\nValorisation et comptabilisation des impôts différés\\nLe rapport met en lumière la valorisation et la comptabilisation des impôts différés en conformité avec les normes Solvabilité 2. Il détaille également les dettes autres que les dettes subordonnées, ainsi que les dettes subordonnées incluses dans les fonds propres de base. En ce qui concerne la gestion du capital, MAIF VIE dispose de fonds propres de base et auxiliaires, classés par niveau de qualité en fonction de leur capacité à absorber des pertes.\\n\\nGestion des fonds propres et des exigences de capital de solvabilité\\nLe rapport met en évidence l'importance de disposer de fonds propres de qualité pour couvrir les exigences réglementaires en matière de solvabilité. Il présente les objectifs de gestion du capital, les fonds propres en normes comptables françaises et en normes Solvabilité 2, ainsi que les variations significatives de fonds propres sur la période.\\n\\nPolitique de dividende et émission de dette subordonnée\\nLe rapport aborde la politique de dividende de MAIF VIE, qui vise à autofinancer son développement sans versement de dividendes à l'actionnaire, sauf en cas de dépassement significatif des résultats prévisionnels. Il envisage également la possibilité d'émettre de la dette subordonnée auprès de tiers.\\n\\nProvisions techniques et engagements d'assurance\\nLe rapport présente en détail les provisions techniques et les engagements d'assurance dans différents domaines tels que l'assurance non-vie, l'assurance vie, la réassurance, l'assurance maladie, l'assurance avec participation aux bénéfices, l'assurance indexée et en unités de compte, ainsi que d'autres assurances vie.\\n\\nExigences de capital de solvabilité\\nLe rapport fournit des informations sur le capital de solvabilité requis, le Minimum de capital de solvabilité requis, le ratio de couverture du SCR, le ratio de couverture du MCR, ainsi que sur les actifs, les provisions techniques et d'autres éléments importants pour évaluer la situation financière de l'entreprise.\\n\\nFonds propres éligibles et disponibles\\nLe rapport détaille les fonds propres éligibles et disponibles pour couvrir le capital de solvabilité requis, ainsi que le calcul du capital de solvabilité requis pour différents risques tels que le risque de marché, le risque de défaut de la contrepartie, et le risque de souscription en vie.\\n\\n#Rapport de l'année 'N'\\nGestion des risques financiers et opérationnels\\nLe rapport met en lumière la gestion des risques financiers et opérationnels de MAIF VIE pour l'année 2021, abordant la constitution des comptes de trésorerie, la réalisation des comptes techniques annuels, l'évaluation du risque de défaut de contrepartie et le risque de liquidité. Il détaille également les risques d'illiquidité et de trésorerie, ainsi que les processus de gestion de la liquidité. En ce qui concerne le risque opérationnel, le rapport met en évidence les principaux risques opérationnels de MAIF VIE, tels que le risque de sous-traitances importantes ou critiques, le risque de non-continuité ou indisponibilité des données ou applicatifs, et le risque de non-conformité aux obligations réglementaires.\\n\\nRisques émergents et mesures d'atténuation\\nLe rapport souligne les risques émergents significatifs tels que le risque de réputation et gestion de crise, le risque d'évolution économique ou juridique, et le risque de durabilité, notamment en ce qui concerne la transition énergétique et écologique. Il met en avant les mesures prises par MAIF VIE pour atténuer ces risques, notamment en ce qui concerne la gestion des modèles, la réputation, les évolutions économiques et juridiques, et la transition énergétique et écologique.\\n\\nEngagement en faveur de la transition énergétique et écologique\\nLe groupe MAIF a pris des mesures pour exclure les entreprises de l'industrie pétrolière ou produisant de l'électricité à partir de pétrole pour plus de 5% de leur chiffre d'affaires de ses investissements. En 2021, le groupe s'est engagé à investir au moins 7% de ses actifs financiers en faveur de la transition énergétique et écologique. Il cherche à contribuer à une transition climatique inclusive, créatrice d'emplois durables, attentive aux inégalités sociales et au développement des territoires.\\n\\nProvisions techniques, actifs et passifs\\nLe rapport présente en détail les différentes provisions techniques, passifs et actifs de l'entreprise. Il met en évidence les différences de valorisation entre les normes Solvabilité 2 et les normes comptables françaises, notamment en ce qui concerne les actifs incorporels, les placements, les participations et les obligations.\\n\\nOutils de modélisation et engagements contractuels\\nLe rapport se concentre sur les outils de modélisation utilisés, tels que l'outil édité par Moody's Analytics pour générer les trajectoires économiques en univers risque neutre. Il met également l'accent sur les engagements contractuels pour l'année suivante, 2022, en détaillant les charges de gestion, les paramètres, la tarification, les commissions et frais de distribution, ainsi que les impôts et prélèvements sociaux.\\n\\nValorisation et comptabilisation des impôts différés\\nLe rapport met en lumière la valorisation et la comptabilisation des impôts différés en conformité avec les normes Solvabilité 2. Il détaille également les dettes autres que les dettes subordonnées, ainsi que les dettes subordonnées incluses dans les fonds propres de base. En ce qui concerne la gestion du capital, MAIF VIE dispose de fonds propres de base et auxiliaires, classés par niveau de qualité en fonction de leur capacité à absorber des pertes.\\n\\nGestion des fonds propres et des exigences de capital de solvabilité\\nLe rapport met en évidence l'importance de disposer de fonds propres de qualité pour couvrir les exigences réglementaires en matière de solvabilité. Il présente les objectifs de gestion du capital, les fonds propres en normes comptables françaises et en normes Solvabilité 2, ainsi que les variations significatives de fonds propres sur la période.\\n\\nPolitique de dividende et émission de dette subordonnée\\nLe rapport aborde la politique de dividende de MAIF VIE, qui vise à autofinancer son développement sans versement de dividendes à l'actionnaire, sauf en cas de dépassement significatif des résultats prévisionnels. Il envisage également la possibilité d'émettre de la dette subordonnée auprès de tiers.\\n\\nProvisions techniques et engagements d'assurance\\nLe rapport présente en détail les provisions techniques et les engagements d'assurance dans différents domaines tels que l'assurance non-vie, l'assurance vie, la réassurance, l'assurance maladie, l'assurance avec participation aux bénéfices, l'assurance indexée et en unités de compte, ainsi que d'autres assurances vie.\\n\\nExigences de capital de solvabilité\\nLe rapport fournit des informations sur le capital de solvabilité requis, le Minimum de capital de solvabilité requis, le ratio de couverture du SCR, le ratio de couverture du MCR, ainsi que sur les actifs, les provisions techniques et d'autres éléments importants pour évaluer la situation financière de l'entreprise.\\n\\nFonds propres éligibles et disponibles\\nLe rapport détaille les fonds propres éligibles et disponibles pour couvrir le capital de solvabilité requis, ainsi que le calcul du capital de solvabilité requis pour différents risques tels que le risque de marché, le risque de défaut de la contrepartie, et le risque de souscription en vie.\\n\\nGénération de la fiche synthèse:\\n1.Présentation\\n\")"
      ]
     },
     "execution_count": 48,
     "metadata": {},
     "output_type": "execute_result"
    }
   ],
   "source": [
    "prompt.format_prompt(rapport_n= output, rapport_n_1= output)"
   ]
  },
  {
   "cell_type": "code",
   "execution_count": 52,
   "metadata": {},
   "outputs": [
    {
     "name": "stdout",
     "output_type": "stream",
     "text": [
      "\n",
      "\n",
      "\u001b[1m> Entering new AgentExecutor chain...\u001b[0m\n",
      "\u001b[32;1m\u001b[1;3m```json\n",
      "{\n",
      "    \"action\": \"Final Answer\",\n",
      "    \"action_input\": \"La génération de la fiche synthèse comparative entre les deux rapports SFCR nécessite une analyse approfondie des informations fournies dans les rapports de l'année 'N' et 'N-1'. Il est important de comparer les éléments clés tels que la gestion des risques, les mesures d'atténuation, l'engagement en faveur de la transition énergétique et écologique, les provisions techniques, les outils de modélisation, la valorisation et comptabilisation des impôts différés, la gestion des fonds propres, la politique de dividende, les provisions techniques et engagements d'assurance, les exigences de capital de solvabilité, ainsi que les fonds propres éligibles et disponibles. Une synthèse comparative peut ensuite être établie en mettant en évidence les différences et similitudes entre les deux années, en accordant une attention particulière aux évolutions significatives et aux tendances émergentes.\"\n",
      "}\n",
      "```\u001b[0m\n",
      "\n",
      "\u001b[1m> Finished chain.\u001b[0m\n"
     ]
    },
    {
     "data": {
      "text/plain": [
       "{'input': \"Tu es un assistant expert dans le domaine financier et en assurance. Tu sais identifier des potentiels\\nrisques dans l'activité d'un organisme. Tu ne peux pas faire des calculs mathématiques complexes sans te servir d'un outil adapté.\\nTu as à disposition deux rapport SFCR (solvabilité et sécurité financière) sur l'activité d'une entreprise de deux années\\nconsécutives 'N' et 'N-1'. Ta tâche consiste à générer une fiche de synthèse comparative entre les deux rapports fournis sous \\nle format suivant:\\n'''\\n1.Présentation []\\n2.Activité\\n3.Placements\\n4.Gouvernance\\n5.Perspectives\\n'''\\n\\n#Règles: \\n- Si tu ne trouves pas l'information sur une partie donnée tu peux l'ignorer.\\n- Si dans le rapport de l'année N il y déjà une comparaison avec l'année N-1 tu dois la garder.\\n\\n#Rapport de l'année 'N-1'\\nGestion des risques financiers et opérationnels\\nLe rapport met en lumière la gestion des risques financiers et opérationnels de MAIF VIE pour l'année 2021, abordant la constitution des comptes de trésorerie, la réalisation des comptes techniques annuels, l'évaluation du risque de défaut de contrepartie et le risque de liquidité. Il détaille également les risques d'illiquidité et de trésorerie, ainsi que les processus de gestion de la liquidité. En ce qui concerne le risque opérationnel, le rapport met en évidence les principaux risques opérationnels de MAIF VIE, tels que le risque de sous-traitances importantes ou critiques, le risque de non-continuité ou indisponibilité des données ou applicatifs, et le risque de non-conformité aux obligations réglementaires.\\n\\nRisques émergents et mesures d'atténuation\\nLe rapport souligne les risques émergents significatifs tels que le risque de réputation et gestion de crise, le risque d'évolution économique ou juridique, et le risque de durabilité, notamment en ce qui concerne la transition énergétique et écologique. Il met en avant les mesures prises par MAIF VIE pour atténuer ces risques, notamment en ce qui concerne la gestion des modèles, la réputation, les évolutions économiques et juridiques, et la transition énergétique et écologique.\\n\\nEngagement en faveur de la transition énergétique et écologique\\nLe groupe MAIF a pris des mesures pour exclure les entreprises de l'industrie pétrolière ou produisant de l'électricité à partir de pétrole pour plus de 5% de leur chiffre d'affaires de ses investissements. En 2021, le groupe s'est engagé à investir au moins 7% de ses actifs financiers en faveur de la transition énergétique et écologique. Il cherche à contribuer à une transition climatique inclusive, créatrice d'emplois durables, attentive aux inégalités sociales et au développement des territoires.\\n\\nProvisions techniques, actifs et passifs\\nLe rapport présente en détail les différentes provisions techniques, passifs et actifs de l'entreprise. Il met en évidence les différences de valorisation entre les normes Solvabilité 2 et les normes comptables françaises, notamment en ce qui concerne les actifs incorporels, les placements, les participations et les obligations.\\n\\nOutils de modélisation et engagements contractuels\\nLe rapport se concentre sur les outils de modélisation utilisés, tels que l'outil édité par Moody's Analytics pour générer les trajectoires économiques en univers risque neutre. Il met également l'accent sur les engagements contractuels pour l'année suivante, 2022, en détaillant les charges de gestion, les paramètres, la tarification, les commissions et frais de distribution, ainsi que les impôts et prélèvements sociaux.\\n\\nValorisation et comptabilisation des impôts différés\\nLe rapport met en lumière la valorisation et la comptabilisation des impôts différés en conformité avec les normes Solvabilité 2. Il détaille également les dettes autres que les dettes subordonnées, ainsi que les dettes subordonnées incluses dans les fonds propres de base. En ce qui concerne la gestion du capital, MAIF VIE dispose de fonds propres de base et auxiliaires, classés par niveau de qualité en fonction de leur capacité à absorber des pertes.\\n\\nGestion des fonds propres et des exigences de capital de solvabilité\\nLe rapport met en évidence l'importance de disposer de fonds propres de qualité pour couvrir les exigences réglementaires en matière de solvabilité. Il présente les objectifs de gestion du capital, les fonds propres en normes comptables françaises et en normes Solvabilité 2, ainsi que les variations significatives de fonds propres sur la période.\\n\\nPolitique de dividende et émission de dette subordonnée\\nLe rapport aborde la politique de dividende de MAIF VIE, qui vise à autofinancer son développement sans versement de dividendes à l'actionnaire, sauf en cas de dépassement significatif des résultats prévisionnels. Il envisage également la possibilité d'émettre de la dette subordonnée auprès de tiers.\\n\\nProvisions techniques et engagements d'assurance\\nLe rapport présente en détail les provisions techniques et les engagements d'assurance dans différents domaines tels que l'assurance non-vie, l'assurance vie, la réassurance, l'assurance maladie, l'assurance avec participation aux bénéfices, l'assurance indexée et en unités de compte, ainsi que d'autres assurances vie.\\n\\nExigences de capital de solvabilité\\nLe rapport fournit des informations sur le capital de solvabilité requis, le Minimum de capital de solvabilité requis, le ratio de couverture du SCR, le ratio de couverture du MCR, ainsi que sur les actifs, les provisions techniques et d'autres éléments importants pour évaluer la situation financière de l'entreprise.\\n\\nFonds propres éligibles et disponibles\\nLe rapport détaille les fonds propres éligibles et disponibles pour couvrir le capital de solvabilité requis, ainsi que le calcul du capital de solvabilité requis pour différents risques tels que le risque de marché, le risque de défaut de la contrepartie, et le risque de souscription en vie.\\n\\n#Rapport de l'année 'N'\\nGestion des risques financiers et opérationnels\\nLe rapport met en lumière la gestion des risques financiers et opérationnels de MAIF VIE pour l'année 2021, abordant la constitution des comptes de trésorerie, la réalisation des comptes techniques annuels, l'évaluation du risque de défaut de contrepartie et le risque de liquidité. Il détaille également les risques d'illiquidité et de trésorerie, ainsi que les processus de gestion de la liquidité. En ce qui concerne le risque opérationnel, le rapport met en évidence les principaux risques opérationnels de MAIF VIE, tels que le risque de sous-traitances importantes ou critiques, le risque de non-continuité ou indisponibilité des données ou applicatifs, et le risque de non-conformité aux obligations réglementaires.\\n\\nRisques émergents et mesures d'atténuation\\nLe rapport souligne les risques émergents significatifs tels que le risque de réputation et gestion de crise, le risque d'évolution économique ou juridique, et le risque de durabilité, notamment en ce qui concerne la transition énergétique et écologique. Il met en avant les mesures prises par MAIF VIE pour atténuer ces risques, notamment en ce qui concerne la gestion des modèles, la réputation, les évolutions économiques et juridiques, et la transition énergétique et écologique.\\n\\nEngagement en faveur de la transition énergétique et écologique\\nLe groupe MAIF a pris des mesures pour exclure les entreprises de l'industrie pétrolière ou produisant de l'électricité à partir de pétrole pour plus de 5% de leur chiffre d'affaires de ses investissements. En 2021, le groupe s'est engagé à investir au moins 7% de ses actifs financiers en faveur de la transition énergétique et écologique. Il cherche à contribuer à une transition climatique inclusive, créatrice d'emplois durables, attentive aux inégalités sociales et au développement des territoires.\\n\\nProvisions techniques, actifs et passifs\\nLe rapport présente en détail les différentes provisions techniques, passifs et actifs de l'entreprise. Il met en évidence les différences de valorisation entre les normes Solvabilité 2 et les normes comptables françaises, notamment en ce qui concerne les actifs incorporels, les placements, les participations et les obligations.\\n\\nOutils de modélisation et engagements contractuels\\nLe rapport se concentre sur les outils de modélisation utilisés, tels que l'outil édité par Moody's Analytics pour générer les trajectoires économiques en univers risque neutre. Il met également l'accent sur les engagements contractuels pour l'année suivante, 2022, en détaillant les charges de gestion, les paramètres, la tarification, les commissions et frais de distribution, ainsi que les impôts et prélèvements sociaux.\\n\\nValorisation et comptabilisation des impôts différés\\nLe rapport met en lumière la valorisation et la comptabilisation des impôts différés en conformité avec les normes Solvabilité 2. Il détaille également les dettes autres que les dettes subordonnées, ainsi que les dettes subordonnées incluses dans les fonds propres de base. En ce qui concerne la gestion du capital, MAIF VIE dispose de fonds propres de base et auxiliaires, classés par niveau de qualité en fonction de leur capacité à absorber des pertes.\\n\\nGestion des fonds propres et des exigences de capital de solvabilité\\nLe rapport met en évidence l'importance de disposer de fonds propres de qualité pour couvrir les exigences réglementaires en matière de solvabilité. Il présente les objectifs de gestion du capital, les fonds propres en normes comptables françaises et en normes Solvabilité 2, ainsi que les variations significatives de fonds propres sur la période.\\n\\nPolitique de dividende et émission de dette subordonnée\\nLe rapport aborde la politique de dividende de MAIF VIE, qui vise à autofinancer son développement sans versement de dividendes à l'actionnaire, sauf en cas de dépassement significatif des résultats prévisionnels. Il envisage également la possibilité d'émettre de la dette subordonnée auprès de tiers.\\n\\nProvisions techniques et engagements d'assurance\\nLe rapport présente en détail les provisions techniques et les engagements d'assurance dans différents domaines tels que l'assurance non-vie, l'assurance vie, la réassurance, l'assurance maladie, l'assurance avec participation aux bénéfices, l'assurance indexée et en unités de compte, ainsi que d'autres assurances vie.\\n\\nExigences de capital de solvabilité\\nLe rapport fournit des informations sur le capital de solvabilité requis, le Minimum de capital de solvabilité requis, le ratio de couverture du SCR, le ratio de couverture du MCR, ainsi que sur les actifs, les provisions techniques et d'autres éléments importants pour évaluer la situation financière de l'entreprise.\\n\\nFonds propres éligibles et disponibles\\nLe rapport détaille les fonds propres éligibles et disponibles pour couvrir le capital de solvabilité requis, ainsi que le calcul du capital de solvabilité requis pour différents risques tels que le risque de marché, le risque de défaut de la contrepartie, et le risque de souscription en vie.\\n\\nGénération de la fiche synthèse:\\n1.Présentation\\n\",\n",
       " 'chat_history': [],\n",
       " 'output': \"La génération de la fiche synthèse comparative entre les deux rapports SFCR nécessite une analyse approfondie des informations fournies dans les rapports de l'année 'N' et 'N-1'. Il est important de comparer les éléments clés tels que la gestion des risques, les mesures d'atténuation, l'engagement en faveur de la transition énergétique et écologique, les provisions techniques, les outils de modélisation, la valorisation et comptabilisation des impôts différés, la gestion des fonds propres, la politique de dividende, les provisions techniques et engagements d'assurance, les exigences de capital de solvabilité, ainsi que les fonds propres éligibles et disponibles. Une synthèse comparative peut ensuite être établie en mettant en évidence les différences et similitudes entre les deux années, en accordant une attention particulière aux évolutions significatives et aux tendances émergentes.\"}"
      ]
     },
     "execution_count": 52,
     "metadata": {},
     "output_type": "execute_result"
    }
   ],
   "source": [
    "agent(prompt.format_prompt(rapport_n= output, rapport_n_1= output).text)"
   ]
  }
 ],
 "metadata": {
  "kernelspec": {
   "display_name": "LangChain",
   "language": "python",
   "name": "python3"
  },
  "language_info": {
   "codemirror_mode": {
    "name": "ipython",
    "version": 3
   },
   "file_extension": ".py",
   "mimetype": "text/x-python",
   "name": "python",
   "nbconvert_exporter": "python",
   "pygments_lexer": "ipython3",
   "version": "3.10.9"
  }
 },
 "nbformat": 4,
 "nbformat_minor": 2
}
